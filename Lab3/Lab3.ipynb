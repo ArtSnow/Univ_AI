{
 "cells": [
  {
   "cell_type": "markdown",
   "metadata": {},
   "source": [
    "# Лабораторная работа №3\n",
    "Реализация Numba + Сравнение скорости"
   ]
  },
  {
   "cell_type": "code",
   "execution_count": 2,
   "metadata": {},
   "outputs": [],
   "source": [
    "from typing import Tuple, Mapping\n",
    "\n",
    "import numpy as np\n",
    "import random\n",
    "from matplotlib import pyplot as plt\n",
    "import sklearn as skl\n",
    "from sklearn import datasets\n",
    "from IPython import display\n",
    "import numba\n",
    "from numba import jit\n",
    "import IPython"
   ]
  },
  {
   "cell_type": "markdown",
   "metadata": {},
   "source": [
    "# Функция Бута\n",
    "$f(x,y) = (x + 2y - 7)^2 + (2x + y - 5)^2$"
   ]
  },
  {
   "cell_type": "code",
   "execution_count": 86,
   "metadata": {},
   "outputs": [],
   "source": [
    "@numba.njit(fastmath=True, parallel=True)\n",
    "def numba_GD(f: Mapping, df1: Mapping, df2: Mapping, x0: np.ndarray, y0: np.ndarray, lr: float = 0.01,\n",
    "          iter: int = 100) -> np.ndarray:\n",
    "    '''Моя простейшая реализация градиентного спуска.\n",
    "    \n",
    "    Args:\n",
    "        f (Mapping): Функционал для оптимизации\n",
    "        df (Mapping): Градиент оптимизирующего функционала\n",
    "        x0 (np.ndarray): Стартовая точка 1\n",
    "        y0 (np.ndarray): Стартовая точка 2\n",
    "        lr (float): Скорость обучения. Default=0,01.\n",
    "        iter (int): Количество итераций.\n",
    "    \n",
    "    Returns:\n",
    "        Tuple [np.ndarray, np.ndarray, np.float32]: (x_optimal, f(x_optimal)).\n",
    "    \n",
    "    '''\n",
    "    x_old = x0\n",
    "    y_old = y0\n",
    "    for i in range(iter):\n",
    "        n1=df1(x0, y0)\n",
    "        n2=df2(x0, y0)\n",
    "        x_new = x_old - lr*n1\n",
    "        y_new = y_old - lr*n2\n",
    "    return [x_new, y_new, f(x_new, y_new)]\n",
    "\n",
    "@numba.njit(fastmath=True)\n",
    "def numba_Buta(x: np.ndarray, y: np.ndarray) -> np.float64:\n",
    "    return (x + 2*y - 7)**2 + (2*x + y - 5)**2\n",
    "\n",
    "@numba.njit(fastmath=True)\n",
    "def numba_grad_Buta_x(x: np.ndarray, y: np.ndarray) -> np.float64:\n",
    "    return 10*x+8*y-34\n",
    "\n",
    "@numba.njit(fastmath=True)\n",
    "def numba_grad_Buta_y(x: np.ndarray, y: np.ndarray) -> np.float64:\n",
    "    return 10*y + 8*x - 38"
   ]
  },
  {
   "cell_type": "code",
   "execution_count": 87,
   "metadata": {},
   "outputs": [
    {
     "name": "stdout",
     "output_type": "stream",
     "text": [
      "f(1,3) = 0\n",
      "Function: 0\n",
      "Gradient: 0, 0\n"
     ]
    }
   ],
   "source": [
    "print(f'''f(1,3) = 0\n",
    "Function: {numba_Buta(1,3)}\n",
    "Gradient: {numba_grad_Buta_x(1,3)}, {numba_grad_Buta_y(1,3)}''')"
   ]
  },
  {
   "cell_type": "code",
   "execution_count": 88,
   "metadata": {},
   "outputs": [
    {
     "name": "stdout",
     "output_type": "stream",
     "text": [
      "X:  [ 1.58107779  2.02139889  1.74902357 ...  3.58479452 -0.5316157\n",
      "  2.63024066] \n",
      "Y:  [-0.21815247  0.41577863  1.10999246 ...  0.55144109  4.041054\n",
      " -0.3872784 ]\n"
     ]
    }
   ],
   "source": [
    "z, y = skl.datasets.make_blobs(n_samples=40000, centers=2, n_features=2, random_state=0)\n",
    "y = np.zeros(40000)\n",
    "x = np.zeros(40000)\n",
    "for i in range(len(z)):\n",
    "   x[i],y[i] = z[i]\n",
    "print('X: ', x, '\\nY: ', y)"
   ]
  },
  {
   "cell_type": "code",
   "execution_count": 89,
   "metadata": {},
   "outputs": [
    {
     "name": "stdout",
     "output_type": "stream",
     "text": [
      "X: [ 1.78042221  2.12599671  1.82532181 ...  3.52219978 -0.46173845\n",
      "  2.73819887]\n",
      "Y: [ 0.05717655  0.59248886  1.23907133 ...  0.58951342  4.05947785\n",
      " -0.17896981]\n",
      "Buta: [27.97318504 13.63309541  7.28346668 ... 12.22185665  3.90642696\n",
      " 21.43046801]\n"
     ]
    }
   ],
   "source": [
    "result_GPU = numba_GD(numba_Buta, numba_grad_Buta_x, numba_grad_Buta_y, x, y)\n",
    "print(f'''X: {result_GPU[0]}\n",
    "Y: {result_GPU[1]}\n",
    "Buta: {result_GPU[2]}''')"
   ]
  },
  {
   "cell_type": "markdown",
   "metadata": {},
   "source": [
    "# Замер времени с использованием Numba и без"
   ]
  },
  {
   "cell_type": "code",
   "execution_count": 90,
   "metadata": {},
   "outputs": [
    {
     "name": "stdout",
     "output_type": "stream",
     "text": [
      "14.4 ms ± 733 µs per loop (mean ± std. dev. of 7 runs, 100 loops each)\n"
     ]
    }
   ],
   "source": [
    "%timeit -n100 numba_GD(numba_Buta, numba_grad_Buta_x, numba_grad_Buta_y, x, y)"
   ]
  },
  {
   "cell_type": "code",
   "execution_count": 91,
   "metadata": {},
   "outputs": [],
   "source": [
    "def GD(f: Mapping, df: Mapping, x0: np.ndarray, y0: np.ndarray, lr: float = 0.01,\n",
    "          iter: int = 100) -> Tuple [np.ndarray, np.ndarray, np.float32]:\n",
    "    '''Градиентный спуск.\n",
    "    \n",
    "    Args:\n",
    "        f (Mapping): Функционал для оптимизации\n",
    "        df (Mapping): Градиент оптимизирующего функционала\n",
    "        x0 (np.ndarray): Стартовая точка 1\n",
    "        y0 (np.ndarray): Стартовая точка 2\n",
    "        lr (float): Скорость обучения. Default=0,01.\n",
    "        iter (int): Количество итераций.\n",
    "    \n",
    "    Returns:\n",
    "        Tuple [np.ndarray, np.ndarray, np.float32]: (x_optimal, f(x_optimal)).\n",
    "        Кортеж с координатой x, координатой y и результатом функции\n",
    "    \n",
    "    '''\n",
    "    x_old = x0\n",
    "    y_old = y0\n",
    "    for i in range(iter):\n",
    "        n=df(x0, y0)\n",
    "        x_new = x_old - lr*n[0]\n",
    "        y_new = y_old - lr*n[1]\n",
    "        \n",
    "    return x_new, y_new, f(x_new, y_new)\n",
    "\n",
    "def Buta(x: np.ndarray, y: np.ndarray) -> np.float64:\n",
    "    return (x + 2*y - 7)**2 + (2*x + y - 5)**2\n",
    "\n",
    "def grad_Buta(x: np.ndarray, y: np.ndarray) -> np.float64:\n",
    "    return np.array([10*x+8*y-34, 10*y + 8*x - 38])"
   ]
  },
  {
   "cell_type": "code",
   "execution_count": 92,
   "metadata": {},
   "outputs": [
    {
     "name": "stdout",
     "output_type": "stream",
     "text": [
      "34.7 ms ± 3.15 ms per loop (mean ± std. dev. of 7 runs, 100 loops each)\n"
     ]
    }
   ],
   "source": [
    "%timeit -n100 GD(Buta, grad_Buta, x, y)"
   ]
  },
  {
   "cell_type": "code",
   "execution_count": null,
   "metadata": {},
   "outputs": [],
   "source": []
  }
 ],
 "metadata": {
  "kernelspec": {
   "display_name": "Python 3.10.5 64-bit",
   "language": "python",
   "name": "python3"
  },
  "language_info": {
   "codemirror_mode": {
    "name": "ipython",
    "version": 3
   },
   "file_extension": ".py",
   "mimetype": "text/x-python",
   "name": "python",
   "nbconvert_exporter": "python",
   "pygments_lexer": "ipython3",
   "version": "3.10.5"
  },
  "orig_nbformat": 4,
  "vscode": {
   "interpreter": {
    "hash": "26de051ba29f2982a8de78e945f0abaf191376122a1563185a90213a26c5da77"
   }
  }
 },
 "nbformat": 4,
 "nbformat_minor": 2
}
