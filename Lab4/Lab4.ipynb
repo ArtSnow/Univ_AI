{
 "cells": [
  {
   "cell_type": "markdown",
   "metadata": {},
   "source": [
    "# Лабораторная работа №4\n",
    "Optuna"
   ]
  },
  {
   "cell_type": "code",
   "execution_count": 3,
   "metadata": {},
   "outputs": [],
   "source": [
    "import logging\n",
    "import sys\n",
    "\n",
    "import sklearn.datasets\n",
    "import sklearn.linear_model\n",
    "import sklearn.model_selection\n",
    "import optuna\n",
    "from optuna.visualization import plot_contour\n",
    "from optuna.visualization import plot_edf\n",
    "from optuna.visualization import plot_intermediate_values\n",
    "from optuna.visualization import plot_optimization_history\n",
    "from optuna.visualization import plot_parallel_coordinate\n",
    "from optuna.visualization import plot_param_importances\n",
    "from optuna.visualization import plot_slice\n",
    "import plotly\n",
    "import numpy as np"
   ]
  },
  {
   "cell_type": "markdown",
   "metadata": {},
   "source": [
    "# Функция Бута\n",
    "$f(x,y) = (x + 2y - 7)^2 + (2x + y - 5)^2$"
   ]
  },
  {
   "cell_type": "code",
   "execution_count": 4,
   "metadata": {},
   "outputs": [],
   "source": [
    "def Buta(x: np.ndarray, y: np.ndarray) -> np.float64:\n",
    "    return (x + 2*y - 7)**2 + (2*x + y - 5)**2\n",
    "\n",
    "def objective(trial):\n",
    "    x = trial.suggest_float(\"x\", -10, 10)\n",
    "    y = trial.suggest_float(\"y\", -10, 10)\n",
    "    return Buta(x, y)"
   ]
  },
  {
   "cell_type": "markdown",
   "metadata": {},
   "source": [
    "Поиск гиперпараметров"
   ]
  },
  {
   "cell_type": "code",
   "execution_count": 5,
   "metadata": {},
   "outputs": [
    {
     "name": "stderr",
     "output_type": "stream",
     "text": [
      "\u001b[32m[I 2023-01-16 19:17:53,774]\u001b[0m A new study created in memory with name: no-name-7b407405-9701-41d3-81d9-12f5c0e21cf4\u001b[0m\n",
      "\u001b[32m[I 2023-01-16 19:17:53,779]\u001b[0m Trial 0 finished with value: 75.94383015108217 and parameters: {'x': 6.544777661264703, 'y': -3.46577894569206}. Best is trial 0 with value: 75.94383015108217.\u001b[0m\n",
      "\u001b[32m[I 2023-01-16 19:17:53,782]\u001b[0m Trial 1 finished with value: 1253.120430827826 and parameters: {'x': -8.853607718482772, 'y': -3.802834629466383}. Best is trial 0 with value: 75.94383015108217.\u001b[0m\n",
      "\u001b[32m[I 2023-01-16 19:17:53,783]\u001b[0m Trial 2 finished with value: 919.1966053489944 and parameters: {'x': -5.136220131868159, 'y': -5.140321575506201}. Best is trial 0 with value: 75.94383015108217.\u001b[0m\n",
      "\u001b[32m[I 2023-01-16 19:17:53,785]\u001b[0m Trial 3 finished with value: 178.45797763443954 and parameters: {'x': 7.377034960820165, 'y': 2.4865774066447344}. Best is trial 0 with value: 75.94383015108217.\u001b[0m\n",
      "\u001b[32m[I 2023-01-16 19:17:53,787]\u001b[0m Trial 4 finished with value: 3.259823762436021 and parameters: {'x': 1.5037136220983456, 'y': 3.34577664574015}. Best is trial 4 with value: 3.259823762436021.\u001b[0m\n",
      "\u001b[32m[I 2023-01-16 19:17:53,788]\u001b[0m Trial 5 finished with value: 1216.1896845956453 and parameters: {'x': -4.7512086601643055, 'y': -7.608583773323856}. Best is trial 4 with value: 3.259823762436021.\u001b[0m\n",
      "\u001b[32m[I 2023-01-16 19:17:53,789]\u001b[0m Trial 6 finished with value: 567.6804922849138 and parameters: {'x': -9.819475054915017, 'y': 3.2060756862806983}. Best is trial 4 with value: 3.259823762436021.\u001b[0m\n",
      "\u001b[32m[I 2023-01-16 19:17:53,791]\u001b[0m Trial 7 finished with value: 86.51882715271944 and parameters: {'x': 7.296983234380782, 'y': -0.2971710615230485}. Best is trial 4 with value: 3.259823762436021.\u001b[0m\n",
      "\u001b[32m[I 2023-01-16 19:17:53,793]\u001b[0m Trial 8 finished with value: 489.3743286680717 and parameters: {'x': 8.232486645653616, 'y': 6.104661673420054}. Best is trial 4 with value: 3.259823762436021.\u001b[0m\n",
      "\u001b[32m[I 2023-01-16 19:17:53,795]\u001b[0m Trial 9 finished with value: 1593.3473736701424 and parameters: {'x': -5.655000974104727, 'y': -9.075005544828752}. Best is trial 4 with value: 3.259823762436021.\u001b[0m\n",
      "\u001b[32m[I 2023-01-16 19:17:53,810]\u001b[0m Trial 10 finished with value: 316.94494393031925 and parameters: {'x': 2.3336895815440433, 'y': 9.854452676299982}. Best is trial 4 with value: 3.259823762436021.\u001b[0m\n",
      "\u001b[32m[I 2023-01-16 19:17:53,816]\u001b[0m Trial 11 finished with value: 59.357391927719156 and parameters: {'x': 2.5622084621933174, 'y': -1.5653210348781197}. Best is trial 4 with value: 3.259823762436021.\u001b[0m\n",
      "\u001b[32m[I 2023-01-16 19:17:53,820]\u001b[0m Trial 12 finished with value: 27.87271739162079 and parameters: {'x': 2.7956306141517286, 'y': -0.5374088988163428}. Best is trial 4 with value: 3.259823762436021.\u001b[0m\n",
      "\u001b[32m[I 2023-01-16 19:17:53,825]\u001b[0m Trial 13 finished with value: 7.914185262888392 and parameters: {'x': -0.32703283668820243, 'y': 3.087526049299189}. Best is trial 4 with value: 3.259823762436021.\u001b[0m\n",
      "\u001b[32m[I 2023-01-16 19:17:53,832]\u001b[0m Trial 14 finished with value: 5.352026117553319 and parameters: {'x': -0.2663500985133196, 'y': 4.715286528217789}. Best is trial 4 with value: 3.259823762436021.\u001b[0m\n",
      "\u001b[32m[I 2023-01-16 19:17:53,836]\u001b[0m Trial 15 finished with value: 24.52956932672256 and parameters: {'x': -0.9565745357945699, 'y': 6.443494879146466}. Best is trial 4 with value: 3.259823762436021.\u001b[0m\n",
      "\u001b[32m[I 2023-01-16 19:17:53,842]\u001b[0m Trial 16 finished with value: 23.290303657927318 and parameters: {'x': -2.487769444275306, 'y': 6.318257107643261}. Best is trial 4 with value: 3.259823762436021.\u001b[0m\n",
      "\u001b[32m[I 2023-01-16 19:17:53,848]\u001b[0m Trial 17 finished with value: 472.4443240742833 and parameters: {'x': 4.291616426202594, 'y': 9.884498561100322}. Best is trial 4 with value: 3.259823762436021.\u001b[0m\n",
      "\u001b[32m[I 2023-01-16 19:17:53,853]\u001b[0m Trial 18 finished with value: 308.92540021571074 and parameters: {'x': 9.931904278833517, 'y': 1.6046653552685672}. Best is trial 4 with value: 3.259823762436021.\u001b[0m\n",
      "\u001b[32m[I 2023-01-16 19:17:53,857]\u001b[0m Trial 19 finished with value: 30.370143671393524 and parameters: {'x': -2.725284048371746, 'y': 4.941939278881032}. Best is trial 4 with value: 3.259823762436021.\u001b[0m\n",
      "\u001b[32m[I 2023-01-16 19:17:53,862]\u001b[0m Trial 20 finished with value: 356.31878040516915 and parameters: {'x': 4.913264184962296, 'y': 7.978078244791914}. Best is trial 4 with value: 3.259823762436021.\u001b[0m\n",
      "\u001b[32m[I 2023-01-16 19:17:53,867]\u001b[0m Trial 21 finished with value: 1.303153261986006 and parameters: {'x': 0.489119190325559, 'y': 3.816958171652698}. Best is trial 21 with value: 1.303153261986006.\u001b[0m\n",
      "\u001b[32m[I 2023-01-16 19:17:53,872]\u001b[0m Trial 22 finished with value: 4.221241296932499 and parameters: {'x': 0.5118111146090565, 'y': 4.261441480157322}. Best is trial 21 with value: 1.303153261986006.\u001b[0m\n",
      "\u001b[32m[I 2023-01-16 19:17:53,878]\u001b[0m Trial 23 finished with value: 10.445527151959972 and parameters: {'x': 1.2372801637011004, 'y': 1.3718307244368142}. Best is trial 21 with value: 1.303153261986006.\u001b[0m\n",
      "\u001b[32m[I 2023-01-16 19:17:53,886]\u001b[0m Trial 24 finished with value: 27.467126516467527 and parameters: {'x': -2.4099621769848483, 'y': 4.584552859674157}. Best is trial 21 with value: 1.303153261986006.\u001b[0m\n",
      "\u001b[32m[I 2023-01-16 19:17:53,891]\u001b[0m Trial 25 finished with value: 142.97610324349736 and parameters: {'x': 1.1173418246204831, 'y': 8.25311295989826}. Best is trial 21 with value: 1.303153261986006.\u001b[0m\n",
      "\u001b[32m[I 2023-01-16 19:17:53,898]\u001b[0m Trial 26 finished with value: 15.46671042056128 and parameters: {'x': 3.920314802776378, 'y': 0.5115108197868143}. Best is trial 21 with value: 1.303153261986006.\u001b[0m\n",
      "\u001b[32m[I 2023-01-16 19:17:53,904]\u001b[0m Trial 27 finished with value: 18.789269875355465 and parameters: {'x': -1.4944152370447041, 'y': 3.7635032451126205}. Best is trial 21 with value: 1.303153261986006.\u001b[0m\n",
      "\u001b[32m[I 2023-01-16 19:17:53,910]\u001b[0m Trial 28 finished with value: 98.38819097793065 and parameters: {'x': 1.3075786534963834, 'y': 7.186044987607934}. Best is trial 21 with value: 1.303153261986006.\u001b[0m\n",
      "\u001b[32m[I 2023-01-16 19:17:53,918]\u001b[0m Trial 29 finished with value: 43.89139168803893 and parameters: {'x': 5.712037466141352, 'y': -1.655683801962228}. Best is trial 21 with value: 1.303153261986006.\u001b[0m\n",
      "\u001b[32m[I 2023-01-16 19:17:53,924]\u001b[0m Trial 30 finished with value: 175.66602353836743 and parameters: {'x': -4.002095374248522, 'y': 1.8903496829747364}. Best is trial 21 with value: 1.303153261986006.\u001b[0m\n",
      "\u001b[32m[I 2023-01-16 19:17:53,933]\u001b[0m Trial 31 finished with value: 3.129970459973122 and parameters: {'x': 0.2576378559309621, 'y': 4.247799137831311}. Best is trial 21 with value: 1.303153261986006.\u001b[0m\n",
      "\u001b[32m[I 2023-01-16 19:17:53,939]\u001b[0m Trial 32 finished with value: 18.57232427783183 and parameters: {'x': 0.6298547252204066, 'y': 5.210572316673996}. Best is trial 21 with value: 1.303153261986006.\u001b[0m\n",
      "\u001b[32m[I 2023-01-16 19:17:53,947]\u001b[0m Trial 33 finished with value: 41.09625732800582 and parameters: {'x': 3.236161098305243, 'y': 3.744665710250135}. Best is trial 21 with value: 1.303153261986006.\u001b[0m\n",
      "\u001b[32m[I 2023-01-16 19:17:53,954]\u001b[0m Trial 34 finished with value: 91.89949476564465 and parameters: {'x': -1.44256129412371, 'y': 0.9251408817255382}. Best is trial 21 with value: 1.303153261986006.\u001b[0m\n",
      "\u001b[32m[I 2023-01-16 19:17:53,960]\u001b[0m Trial 35 finished with value: 335.4623535920478 and parameters: {'x': -6.7960125960343785, 'y': 2.512789088215112}. Best is trial 21 with value: 1.303153261986006.\u001b[0m\n",
      "\u001b[32m[I 2023-01-16 19:17:53,966]\u001b[0m Trial 36 finished with value: 310.9052190746759 and parameters: {'x': 0.30150435296668054, 'y': -4.315554325085547}. Best is trial 21 with value: 1.303153261986006.\u001b[0m\n",
      "\u001b[32m[I 2023-01-16 19:17:53,973]\u001b[0m Trial 37 finished with value: 22.792270303389788 and parameters: {'x': 1.9901399869232117, 'y': 4.2586240419741195}. Best is trial 21 with value: 1.303153261986006.\u001b[0m\n",
      "\u001b[32m[I 2023-01-16 19:17:53,980]\u001b[0m Trial 38 finished with value: 65.56156658170754 and parameters: {'x': -4.2315625159127865, 'y': 5.37987342390003}. Best is trial 21 with value: 1.303153261986006.\u001b[0m\n",
      "\u001b[32m[I 2023-01-16 19:17:53,986]\u001b[0m Trial 39 finished with value: 95.27109600852083 and parameters: {'x': -3.13485070227559, 'y': 2.7163206384912026}. Best is trial 21 with value: 1.303153261986006.\u001b[0m\n",
      "\u001b[32m[I 2023-01-16 19:17:53,992]\u001b[0m Trial 40 finished with value: 443.8017738868417 and parameters: {'x': 5.722850122722215, 'y': 8.206731977270838}. Best is trial 21 with value: 1.303153261986006.\u001b[0m\n",
      "\u001b[32m[I 2023-01-16 19:17:54,000]\u001b[0m Trial 41 finished with value: 14.658926226745125 and parameters: {'x': -0.38438017359889615, 'y': 5.6047824022389}. Best is trial 21 with value: 1.303153261986006.\u001b[0m\n",
      "\u001b[32m[I 2023-01-16 19:17:54,006]\u001b[0m Trial 42 finished with value: 55.13946910859789 and parameters: {'x': -0.14851913672814393, 'y': 7.167356395323172}. Best is trial 21 with value: 1.303153261986006.\u001b[0m\n",
      "\u001b[32m[I 2023-01-16 19:17:54,012]\u001b[0m Trial 43 finished with value: 9.685841568012872 and parameters: {'x': 1.731908259246982, 'y': 3.7352004732739488}. Best is trial 21 with value: 1.303153261986006.\u001b[0m\n",
      "\u001b[32m[I 2023-01-16 19:17:54,019]\u001b[0m Trial 44 finished with value: 192.7147131190206 and parameters: {'x': -1.5463384331206393, 'y': -0.9803008087632019}. Best is trial 21 with value: 1.303153261986006.\u001b[0m\n",
      "\u001b[32m[I 2023-01-16 19:17:54,025]\u001b[0m Trial 45 finished with value: 16.78759664954071 and parameters: {'x': 3.3736118055694817, 'y': 2.254049169970252}. Best is trial 21 with value: 1.303153261986006.\u001b[0m\n",
      "\u001b[32m[I 2023-01-16 19:17:54,031]\u001b[0m Trial 46 finished with value: 686.2406838444338 and parameters: {'x': -0.7305223941374661, 'y': -7.284774086560023}. Best is trial 21 with value: 1.303153261986006.\u001b[0m\n",
      "\u001b[32m[I 2023-01-16 19:17:54,037]\u001b[0m Trial 47 finished with value: 52.595823585573456 and parameters: {'x': 0.5524276653561253, 'y': 0.12586833753454307}. Best is trial 21 with value: 1.303153261986006.\u001b[0m\n",
      "\u001b[32m[I 2023-01-16 19:17:54,043]\u001b[0m Trial 48 finished with value: 112.03464746569553 and parameters: {'x': 2.187373064794427, 'y': -2.629575979928621}. Best is trial 21 with value: 1.303153261986006.\u001b[0m\n",
      "\u001b[32m[I 2023-01-16 19:17:54,049]\u001b[0m Trial 49 finished with value: 333.0146121638551 and parameters: {'x': -7.210762181201522, 'y': 3.062232810128645}. Best is trial 21 with value: 1.303153261986006.\u001b[0m\n",
      "\u001b[32m[I 2023-01-16 19:17:54,055]\u001b[0m Trial 50 finished with value: 22.446536237395343 and parameters: {'x': -2.011260235486838, 'y': 6.515778035007249}. Best is trial 21 with value: 1.303153261986006.\u001b[0m\n",
      "\u001b[32m[I 2023-01-16 19:17:54,062]\u001b[0m Trial 51 finished with value: 3.2136062405064156 and parameters: {'x': -0.22068622035399232, 'y': 4.302577046576108}. Best is trial 21 with value: 1.303153261986006.\u001b[0m\n",
      "\u001b[32m[I 2023-01-16 19:17:54,069]\u001b[0m Trial 52 finished with value: 4.595140471644004 and parameters: {'x': 0.3583824499473194, 'y': 4.391260887557461}. Best is trial 21 with value: 1.303153261986006.\u001b[0m\n",
      "\u001b[32m[I 2023-01-16 19:17:54,075]\u001b[0m Trial 53 finished with value: 2.2592393265773456 and parameters: {'x': 0.39670436172743206, 'y': 4.049046467750109}. Best is trial 21 with value: 1.303153261986006.\u001b[0m\n",
      "\u001b[32m[I 2023-01-16 19:17:54,083]\u001b[0m Trial 54 finished with value: 15.409665340498506 and parameters: {'x': -0.8941983098470719, 'y': 5.85336375353675}. Best is trial 21 with value: 1.303153261986006.\u001b[0m\n",
      "\u001b[32m[I 2023-01-16 19:17:54,089]\u001b[0m Trial 55 finished with value: 24.401723825037045 and parameters: {'x': 2.534094855868985, 'y': 3.780983021760372}. Best is trial 21 with value: 1.303153261986006.\u001b[0m\n",
      "\u001b[32m[I 2023-01-16 19:17:54,095]\u001b[0m Trial 56 finished with value: 0.8855586087066798 and parameters: {'x': 1.2898353387015806, 'y': 3.1513680702952014}. Best is trial 56 with value: 0.8855586087066798.\u001b[0m\n",
      "\u001b[32m[I 2023-01-16 19:17:54,102]\u001b[0m Trial 57 finished with value: 0.21702018503726736 and parameters: {'x': 1.0498102497147892, 'y': 3.1663334072057543}. Best is trial 57 with value: 0.21702018503726736.\u001b[0m\n",
      "\u001b[32m[I 2023-01-16 19:17:54,109]\u001b[0m Trial 58 finished with value: 128.50831854468493 and parameters: {'x': -3.148598796693834, 'y': 1.9023476157978336}. Best is trial 57 with value: 0.21702018503726736.\u001b[0m\n",
      "\u001b[32m[I 2023-01-16 19:17:54,115]\u001b[0m Trial 59 finished with value: 1.1033389244412675 and parameters: {'x': 1.2571697847132242, 'y': 3.2379518073368834}. Best is trial 57 with value: 0.21702018503726736.\u001b[0m\n",
      "\u001b[32m[I 2023-01-16 19:17:54,122]\u001b[0m Trial 60 finished with value: 14.911520045848839 and parameters: {'x': 3.803281325928018, 'y': 1.1488911968292719}. Best is trial 57 with value: 0.21702018503726736.\u001b[0m\n",
      "\u001b[32m[I 2023-01-16 19:17:54,127]\u001b[0m Trial 61 finished with value: 0.10978128924337152 and parameters: {'x': 0.8206176095111877, 'y': 3.041662097054127}. Best is trial 61 with value: 0.10978128924337152.\u001b[0m\n",
      "\u001b[32m[I 2023-01-16 19:17:54,135]\u001b[0m Trial 62 finished with value: 1.6454483275490899 and parameters: {'x': 1.397523842383601, 'y': 3.203709391499202}. Best is trial 61 with value: 0.10978128924337152.\u001b[0m\n",
      "\u001b[32m[I 2023-01-16 19:17:54,141]\u001b[0m Trial 63 finished with value: 0.4990372402469684 and parameters: {'x': 1.350669167517662, 'y': 2.9551310756251796}. Best is trial 61 with value: 0.10978128924337152.\u001b[0m\n",
      "\u001b[32m[I 2023-01-16 19:17:54,147]\u001b[0m Trial 64 finished with value: 0.8831137119780237 and parameters: {'x': 1.4027281003874421, 'y': 3.0216697701881357}. Best is trial 61 with value: 0.10978128924337152.\u001b[0m\n",
      "\u001b[32m[I 2023-01-16 19:17:54,154]\u001b[0m Trial 65 finished with value: 1.7975577831376244 and parameters: {'x': 1.1100766692783963, 'y': 2.3159944706257587}. Best is trial 61 with value: 0.10978128924337152.\u001b[0m\n",
      "\u001b[32m[I 2023-01-16 19:17:54,160]\u001b[0m Trial 66 finished with value: 11.280313517459067 and parameters: {'x': 2.8740665343291867, 'y': 0.5049066405583926}. Best is trial 61 with value: 0.10978128924337152.\u001b[0m\n",
      "\u001b[32m[I 2023-01-16 19:17:54,167]\u001b[0m Trial 67 finished with value: 63.442637430584384 and parameters: {'x': 4.545272795343829, 'y': 3.0210010721594616}. Best is trial 61 with value: 0.10978128924337152.\u001b[0m\n",
      "\u001b[32m[I 2023-01-16 19:17:54,174]\u001b[0m Trial 68 finished with value: 3.257188698152678 and parameters: {'x': 1.716678876109194, 'y': 1.7436258313679}. Best is trial 61 with value: 0.10978128924337152.\u001b[0m\n",
      "\u001b[32m[I 2023-01-16 19:17:54,180]\u001b[0m Trial 69 finished with value: 75.60871711196467 and parameters: {'x': 3.1968207337855326, 'y': 4.901009722956201}. Best is trial 61 with value: 0.10978128924337152.\u001b[0m\n",
      "\u001b[32m[I 2023-01-16 19:17:54,187]\u001b[0m Trial 70 finished with value: 17.35936371653088 and parameters: {'x': 0.9162509633552685, 'y': 1.2043807125775445}. Best is trial 61 with value: 0.10978128924337152.\u001b[0m\n",
      "\u001b[32m[I 2023-01-16 19:17:54,194]\u001b[0m Trial 71 finished with value: 4.077691711020817 and parameters: {'x': 1.6859660838057873, 'y': 3.255055804798256}. Best is trial 61 with value: 0.10978128924337152.\u001b[0m\n",
      "\u001b[32m[I 2023-01-16 19:17:54,200]\u001b[0m Trial 72 finished with value: 5.047669555225905 and parameters: {'x': 2.3891682305807254, 'y': 2.4497448188443087}. Best is trial 61 with value: 0.10978128924337152.\u001b[0m\n",
      "\u001b[32m[I 2023-01-16 19:17:54,207]\u001b[0m Trial 73 finished with value: 1.7376239128616482 and parameters: {'x': 1.3660232223287292, 'y': 3.2542595727061316}. Best is trial 61 with value: 0.10978128924337152.\u001b[0m\n",
      "\u001b[32m[I 2023-01-16 19:17:54,215]\u001b[0m Trial 74 finished with value: 47.46876249285235 and parameters: {'x': 2.1882033992508823, 'y': 5.047018749732966}. Best is trial 61 with value: 0.10978128924337152.\u001b[0m\n",
      "\u001b[32m[I 2023-01-16 19:17:54,221]\u001b[0m Trial 75 finished with value: 57.51914516732647 and parameters: {'x': 0.9183931656827989, 'y': -0.3260905881199463}. Best is trial 61 with value: 0.10978128924337152.\u001b[0m\n",
      "\u001b[32m[I 2023-01-16 19:17:54,227]\u001b[0m Trial 76 finished with value: 41.297199907473775 and parameters: {'x': -0.960263364320739, 'y': 1.9459802864777584}. Best is trial 61 with value: 0.10978128924337152.\u001b[0m\n",
      "\u001b[32m[I 2023-01-16 19:17:54,234]\u001b[0m Trial 77 finished with value: 10.745782341239657 and parameters: {'x': 2.7996262154846008, 'y': 0.5687140122543131}. Best is trial 61 with value: 0.10978128924337152.\u001b[0m\n",
      "\u001b[32m[I 2023-01-16 19:17:54,241]\u001b[0m Trial 78 finished with value: 0.48410465028432415 and parameters: {'x': 1.5035269310445556, 'y': 2.6716550068668288}. Best is trial 61 with value: 0.10978128924337152.\u001b[0m\n",
      "\u001b[32m[I 2023-01-16 19:17:54,248]\u001b[0m Trial 79 finished with value: 81.74305366384306 and parameters: {'x': 5.260782143086242, 'y': 2.723957169233412}. Best is trial 61 with value: 0.10978128924337152.\u001b[0m\n",
      "\u001b[32m[I 2023-01-16 19:17:54,254]\u001b[0m Trial 80 finished with value: 50.031607770240896 and parameters: {'x': 3.717376407459259, 'y': 3.536824444745045}. Best is trial 61 with value: 0.10978128924337152.\u001b[0m\n",
      "\u001b[32m[I 2023-01-16 19:17:54,260]\u001b[0m Trial 81 finished with value: 1.3076416371272914 and parameters: {'x': 1.6390641870384606, 'y': 2.8271319164590487}. Best is trial 61 with value: 0.10978128924337152.\u001b[0m\n",
      "\u001b[32m[I 2023-01-16 19:17:54,268]\u001b[0m Trial 82 finished with value: 32.809743293033556 and parameters: {'x': -0.002869454143755945, 'y': 1.312339803172456}. Best is trial 61 with value: 0.10978128924337152.\u001b[0m\n",
      "\u001b[32m[I 2023-01-16 19:17:54,274]\u001b[0m Trial 83 finished with value: 1.552304443304426 and parameters: {'x': 1.7971109151135167, 'y': 2.648181862240549}. Best is trial 61 with value: 0.10978128924337152.\u001b[0m\n",
      "\u001b[32m[I 2023-01-16 19:17:54,281]\u001b[0m Trial 84 finished with value: 6.1476551731722555 and parameters: {'x': -0.6092263770490329, 'y': 4.832607295894348}. Best is trial 61 with value: 0.10978128924337152.\u001b[0m\n",
      "\u001b[32m[I 2023-01-16 19:17:54,286]\u001b[0m Trial 85 finished with value: 2.182533534412258 and parameters: {'x': 0.7717801680128196, 'y': 3.8289166130798273}. Best is trial 61 with value: 0.10978128924337152.\u001b[0m\n",
      "\u001b[32m[I 2023-01-16 19:17:54,292]\u001b[0m Trial 86 finished with value: 44.15209453326257 and parameters: {'x': -1.2245591414931556, 'y': 2.1246708364602696}. Best is trial 61 with value: 0.10978128924337152.\u001b[0m\n",
      "\u001b[32m[I 2023-01-16 19:17:54,299]\u001b[0m Trial 87 finished with value: 24.832167269235402 and parameters: {'x': 0.06805430444021643, 'y': 1.5882978206358676}. Best is trial 61 with value: 0.10978128924337152.\u001b[0m\n",
      "\u001b[32m[I 2023-01-16 19:17:54,305]\u001b[0m Trial 88 finished with value: 4.792744149361664 and parameters: {'x': 2.112784937355716, 'y': 2.8258476856611825}. Best is trial 61 with value: 0.10978128924337152.\u001b[0m\n",
      "\u001b[32m[I 2023-01-16 19:17:54,312]\u001b[0m Trial 89 finished with value: 87.14311756514387 and parameters: {'x': 2.9468434517143747, 'y': 5.450536181709225}. Best is trial 61 with value: 0.10978128924337152.\u001b[0m\n",
      "\u001b[32m[I 2023-01-16 19:17:54,320]\u001b[0m Trial 90 finished with value: 530.470482686964 and parameters: {'x': 4.318877999357186, 'y': -9.760977627021989}. Best is trial 61 with value: 0.10978128924337152.\u001b[0m\n",
      "\u001b[32m[I 2023-01-16 19:17:54,326]\u001b[0m Trial 91 finished with value: 1.5040044486827113 and parameters: {'x': 1.745282813317935, 'y': 2.7213271462394464}. Best is trial 61 with value: 0.10978128924337152.\u001b[0m\n",
      "\u001b[32m[I 2023-01-16 19:17:54,335]\u001b[0m Trial 92 finished with value: 0.6713700352070565 and parameters: {'x': 0.8003233217668679, 'y': 3.506036776778949}. Best is trial 61 with value: 0.10978128924337152.\u001b[0m\n",
      "\u001b[32m[I 2023-01-16 19:17:54,346]\u001b[0m Trial 93 finished with value: 1.0942796659667289 and parameters: {'x': 0.9201602134593806, 'y': 3.5292331428888835}. Best is trial 61 with value: 0.10978128924337152.\u001b[0m\n",
      "\u001b[32m[I 2023-01-16 19:17:54,356]\u001b[0m Trial 94 finished with value: 0.7895451256300469 and parameters: {'x': 0.8712646037993916, 'y': 3.4927867473337186}. Best is trial 61 with value: 0.10978128924337152.\u001b[0m\n",
      "\u001b[32m[I 2023-01-16 19:17:54,368]\u001b[0m Trial 95 finished with value: 12.814920220242925 and parameters: {'x': 0.8841773250229287, 'y': 4.6920813744366905}. Best is trial 61 with value: 0.10978128924337152.\u001b[0m\n",
      "\u001b[32m[I 2023-01-16 19:17:54,410]\u001b[0m Trial 96 finished with value: 3.710489869067778 and parameters: {'x': -0.2380084735314596, 'y': 3.554128678503016}. Best is trial 61 with value: 0.10978128924337152.\u001b[0m\n",
      "\u001b[32m[I 2023-01-16 19:17:54,420]\u001b[0m Trial 97 finished with value: 8.94781386155307 and parameters: {'x': 1.3175601265115409, 'y': 4.070058683037644}. Best is trial 61 with value: 0.10978128924337152.\u001b[0m\n",
      "\u001b[32m[I 2023-01-16 19:17:54,430]\u001b[0m Trial 98 finished with value: 33.84113879809871 and parameters: {'x': 0.28873731163636995, 'y': 6.135351067122462}. Best is trial 61 with value: 0.10978128924337152.\u001b[0m\n",
      "\u001b[32m[I 2023-01-16 19:17:54,441]\u001b[0m Trial 99 finished with value: 8.226982950900117 and parameters: {'x': 2.62379581374226, 'y': 0.8665893524804473}. Best is trial 61 with value: 0.10978128924337152.\u001b[0m\n"
     ]
    }
   ],
   "source": [
    "study = optuna.create_study()\n",
    "study.optimize(objective, n_trials=100)"
   ]
  },
  {
   "cell_type": "code",
   "execution_count": 6,
   "metadata": {},
   "outputs": [
    {
     "name": "stdout",
     "output_type": "stream",
     "text": [
      "f(1,3) = 0\n",
      "X: 0.8206176095111877\n",
      "Y: 3.041662097054127\n",
      "F(X,Y): 0.10978128924337152\n"
     ]
    }
   ],
   "source": [
    "best_params = study.best_params\n",
    "found_x = best_params[\"x\"]\n",
    "found_y = best_params[\"y\"]\n",
    "print(f'''f(1,3) = 0\n",
    "X: {found_x}\n",
    "Y: {found_y}\n",
    "F(X,Y): {Buta(found_x, found_y)}''')\n"
   ]
  },
  {
   "cell_type": "markdown",
   "metadata": {},
   "source": [
    "# Использование Optuna для нахождения гиперпараметров датасета Iris"
   ]
  },
  {
   "cell_type": "code",
   "execution_count": 7,
   "metadata": {},
   "outputs": [],
   "source": [
    "def objective(trial):\n",
    "    iris = sklearn.datasets.load_iris()\n",
    "    classes = list(set(iris.target))\n",
    "    train_x, valid_x, train_y, valid_y = sklearn.model_selection.train_test_split(\n",
    "        iris.data, iris.target, test_size=0.25, random_state=0\n",
    "    )\n",
    "    alpha = trial.suggest_float(\"alpha\", 1e-5, 1e-1, log=True)\n",
    "    clf = sklearn.linear_model.SGDClassifier(alpha=alpha)\n",
    "    for step in range(100):\n",
    "        clf.partial_fit(train_x, train_y, classes=classes)\n",
    "        intermediate_value = 1.0 - clf.score(valid_x, valid_y)\n",
    "        trial.report(intermediate_value, step)\n",
    "        if trial.should_prune():\n",
    "            raise optuna.TrialPruned()\n",
    "\n",
    "    return 1.0 - clf.score(valid_x, valid_y)"
   ]
  },
  {
   "cell_type": "code",
   "execution_count": 8,
   "metadata": {},
   "outputs": [
    {
     "name": "stderr",
     "output_type": "stream",
     "text": [
      "\u001b[32m[I 2023-01-16 19:17:55,161]\u001b[0m A new study created in memory with name: no-name-f58918a8-e57b-4ea5-815f-3a43f188bd3c\u001b[0m\n"
     ]
    },
    {
     "name": "stdout",
     "output_type": "stream",
     "text": [
      "A new study created in memory with name: no-name-f58918a8-e57b-4ea5-815f-3a43f188bd3c\n"
     ]
    },
    {
     "name": "stderr",
     "output_type": "stream",
     "text": [
      "\u001b[32m[I 2023-01-16 19:17:55,415]\u001b[0m Trial 0 finished with value: 0.07894736842105265 and parameters: {'alpha': 0.004985919325144095}. Best is trial 0 with value: 0.07894736842105265.\u001b[0m\n"
     ]
    },
    {
     "name": "stdout",
     "output_type": "stream",
     "text": [
      "Trial 0 finished with value: 0.07894736842105265 and parameters: {'alpha': 0.004985919325144095}. Best is trial 0 with value: 0.07894736842105265.\n"
     ]
    },
    {
     "name": "stderr",
     "output_type": "stream",
     "text": [
      "\u001b[32m[I 2023-01-16 19:17:55,718]\u001b[0m Trial 1 finished with value: 0.13157894736842102 and parameters: {'alpha': 0.00012371714817355944}. Best is trial 0 with value: 0.07894736842105265.\u001b[0m\n"
     ]
    },
    {
     "name": "stdout",
     "output_type": "stream",
     "text": [
      "Trial 1 finished with value: 0.13157894736842102 and parameters: {'alpha': 0.00012371714817355944}. Best is trial 0 with value: 0.07894736842105265.\n"
     ]
    },
    {
     "name": "stderr",
     "output_type": "stream",
     "text": [
      "\u001b[32m[I 2023-01-16 19:17:55,945]\u001b[0m Trial 2 finished with value: 0.1578947368421053 and parameters: {'alpha': 0.0003061319599834579}. Best is trial 0 with value: 0.07894736842105265.\u001b[0m\n"
     ]
    },
    {
     "name": "stdout",
     "output_type": "stream",
     "text": [
      "Trial 2 finished with value: 0.1578947368421053 and parameters: {'alpha': 0.0003061319599834579}. Best is trial 0 with value: 0.07894736842105265.\n"
     ]
    },
    {
     "name": "stderr",
     "output_type": "stream",
     "text": [
      "\u001b[32m[I 2023-01-16 19:17:56,196]\u001b[0m Trial 3 finished with value: 0.02631578947368418 and parameters: {'alpha': 0.0009941653379389513}. Best is trial 3 with value: 0.02631578947368418.\u001b[0m\n"
     ]
    },
    {
     "name": "stdout",
     "output_type": "stream",
     "text": [
      "Trial 3 finished with value: 0.02631578947368418 and parameters: {'alpha': 0.0009941653379389513}. Best is trial 3 with value: 0.02631578947368418.\n"
     ]
    },
    {
     "name": "stderr",
     "output_type": "stream",
     "text": [
      "\u001b[32m[I 2023-01-16 19:17:56,455]\u001b[0m Trial 4 finished with value: 0.23684210526315785 and parameters: {'alpha': 0.004626597548760444}. Best is trial 3 with value: 0.02631578947368418.\u001b[0m\n"
     ]
    },
    {
     "name": "stdout",
     "output_type": "stream",
     "text": [
      "Trial 4 finished with value: 0.23684210526315785 and parameters: {'alpha': 0.004626597548760444}. Best is trial 3 with value: 0.02631578947368418.\n"
     ]
    },
    {
     "name": "stderr",
     "output_type": "stream",
     "text": [
      "\u001b[32m[I 2023-01-16 19:17:56,473]\u001b[0m Trial 5 pruned. \u001b[0m\n"
     ]
    },
    {
     "name": "stdout",
     "output_type": "stream",
     "text": [
      "Trial 5 pruned. \n"
     ]
    },
    {
     "name": "stderr",
     "output_type": "stream",
     "text": [
      "\u001b[32m[I 2023-01-16 19:17:56,484]\u001b[0m Trial 6 pruned. \u001b[0m\n"
     ]
    },
    {
     "name": "stdout",
     "output_type": "stream",
     "text": [
      "Trial 6 pruned. \n"
     ]
    },
    {
     "name": "stderr",
     "output_type": "stream",
     "text": [
      "\u001b[32m[I 2023-01-16 19:17:56,493]\u001b[0m Trial 7 pruned. \u001b[0m\n"
     ]
    },
    {
     "name": "stdout",
     "output_type": "stream",
     "text": [
      "Trial 7 pruned. \n"
     ]
    },
    {
     "name": "stderr",
     "output_type": "stream",
     "text": [
      "\u001b[32m[I 2023-01-16 19:17:56,515]\u001b[0m Trial 8 pruned. \u001b[0m\n"
     ]
    },
    {
     "name": "stdout",
     "output_type": "stream",
     "text": [
      "Trial 8 pruned. \n"
     ]
    },
    {
     "name": "stderr",
     "output_type": "stream",
     "text": [
      "\u001b[32m[I 2023-01-16 19:17:56,524]\u001b[0m Trial 9 pruned. \u001b[0m\n"
     ]
    },
    {
     "name": "stdout",
     "output_type": "stream",
     "text": [
      "Trial 9 pruned. \n"
     ]
    },
    {
     "name": "stderr",
     "output_type": "stream",
     "text": [
      "\u001b[32m[I 2023-01-16 19:17:56,616]\u001b[0m Trial 10 pruned. \u001b[0m\n"
     ]
    },
    {
     "name": "stdout",
     "output_type": "stream",
     "text": [
      "Trial 10 pruned. \n"
     ]
    },
    {
     "name": "stderr",
     "output_type": "stream",
     "text": [
      "\u001b[32m[I 2023-01-16 19:17:56,629]\u001b[0m Trial 11 pruned. \u001b[0m\n"
     ]
    },
    {
     "name": "stdout",
     "output_type": "stream",
     "text": [
      "Trial 11 pruned. \n"
     ]
    },
    {
     "name": "stderr",
     "output_type": "stream",
     "text": [
      "\u001b[32m[I 2023-01-16 19:17:56,644]\u001b[0m Trial 12 pruned. \u001b[0m\n"
     ]
    },
    {
     "name": "stdout",
     "output_type": "stream",
     "text": [
      "Trial 12 pruned. \n"
     ]
    },
    {
     "name": "stderr",
     "output_type": "stream",
     "text": [
      "\u001b[32m[I 2023-01-16 19:17:56,669]\u001b[0m Trial 13 pruned. \u001b[0m\n"
     ]
    },
    {
     "name": "stdout",
     "output_type": "stream",
     "text": [
      "Trial 13 pruned. \n"
     ]
    },
    {
     "name": "stderr",
     "output_type": "stream",
     "text": [
      "\u001b[32m[I 2023-01-16 19:17:56,679]\u001b[0m Trial 14 pruned. \u001b[0m\n"
     ]
    },
    {
     "name": "stdout",
     "output_type": "stream",
     "text": [
      "Trial 14 pruned. \n"
     ]
    },
    {
     "name": "stderr",
     "output_type": "stream",
     "text": [
      "\u001b[32m[I 2023-01-16 19:17:56,693]\u001b[0m Trial 15 pruned. \u001b[0m\n"
     ]
    },
    {
     "name": "stdout",
     "output_type": "stream",
     "text": [
      "Trial 15 pruned. \n"
     ]
    },
    {
     "name": "stderr",
     "output_type": "stream",
     "text": [
      "\u001b[32m[I 2023-01-16 19:17:56,734]\u001b[0m Trial 16 pruned. \u001b[0m\n"
     ]
    },
    {
     "name": "stdout",
     "output_type": "stream",
     "text": [
      "Trial 16 pruned. \n"
     ]
    },
    {
     "name": "stderr",
     "output_type": "stream",
     "text": [
      "\u001b[32m[I 2023-01-16 19:17:57,037]\u001b[0m Trial 17 finished with value: 0.21052631578947367 and parameters: {'alpha': 0.01362390526336521}. Best is trial 3 with value: 0.02631578947368418.\u001b[0m\n"
     ]
    },
    {
     "name": "stdout",
     "output_type": "stream",
     "text": [
      "Trial 17 finished with value: 0.21052631578947367 and parameters: {'alpha': 0.01362390526336521}. Best is trial 3 with value: 0.02631578947368418.\n"
     ]
    },
    {
     "name": "stderr",
     "output_type": "stream",
     "text": [
      "\u001b[32m[I 2023-01-16 19:17:57,052]\u001b[0m Trial 18 pruned. \u001b[0m\n"
     ]
    },
    {
     "name": "stdout",
     "output_type": "stream",
     "text": [
      "Trial 18 pruned. \n"
     ]
    },
    {
     "name": "stderr",
     "output_type": "stream",
     "text": [
      "\u001b[32m[I 2023-01-16 19:17:57,067]\u001b[0m Trial 19 pruned. \u001b[0m\n"
     ]
    },
    {
     "name": "stdout",
     "output_type": "stream",
     "text": [
      "Trial 19 pruned. \n"
     ]
    }
   ],
   "source": [
    "optuna.logging.get_logger(\"optuna\").addHandler(logging.StreamHandler(sys.stdout))\n",
    "study = optuna.create_study(pruner=optuna.pruners.MedianPruner())\n",
    "study.optimize(objective, n_trials=20)"
   ]
  },
  {
   "cell_type": "markdown",
   "metadata": {},
   "source": [
    "# Вывод итогов"
   ]
  },
  {
   "cell_type": "code",
   "execution_count": 10,
   "metadata": {},
   "outputs": [
    {
     "data": {
      "application/vnd.plotly.v1+json": {
       "config": {
        "plotlyServerURL": "https://plot.ly"
       },
       "data": [
        {
         "mode": "markers",
         "name": "Objective Value",
         "type": "scatter",
         "x": [
          0,
          1,
          2,
          3,
          4,
          17
         ],
         "y": [
          0.07894736842105265,
          0.13157894736842102,
          0.1578947368421053,
          0.02631578947368418,
          0.23684210526315785,
          0.21052631578947367
         ]
        },
        {
         "name": "Best Value",
         "type": "scatter",
         "x": [
          0,
          1,
          2,
          3,
          4,
          17
         ],
         "y": [
          0.07894736842105265,
          0.07894736842105265,
          0.07894736842105265,
          0.02631578947368418,
          0.02631578947368418,
          0.02631578947368418
         ]
        }
       ],
       "layout": {
        "template": {
         "data": {
          "bar": [
           {
            "error_x": {
             "color": "#2a3f5f"
            },
            "error_y": {
             "color": "#2a3f5f"
            },
            "marker": {
             "line": {
              "color": "#E5ECF6",
              "width": 0.5
             },
             "pattern": {
              "fillmode": "overlay",
              "size": 10,
              "solidity": 0.2
             }
            },
            "type": "bar"
           }
          ],
          "barpolar": [
           {
            "marker": {
             "line": {
              "color": "#E5ECF6",
              "width": 0.5
             },
             "pattern": {
              "fillmode": "overlay",
              "size": 10,
              "solidity": 0.2
             }
            },
            "type": "barpolar"
           }
          ],
          "carpet": [
           {
            "aaxis": {
             "endlinecolor": "#2a3f5f",
             "gridcolor": "white",
             "linecolor": "white",
             "minorgridcolor": "white",
             "startlinecolor": "#2a3f5f"
            },
            "baxis": {
             "endlinecolor": "#2a3f5f",
             "gridcolor": "white",
             "linecolor": "white",
             "minorgridcolor": "white",
             "startlinecolor": "#2a3f5f"
            },
            "type": "carpet"
           }
          ],
          "choropleth": [
           {
            "colorbar": {
             "outlinewidth": 0,
             "ticks": ""
            },
            "type": "choropleth"
           }
          ],
          "contour": [
           {
            "colorbar": {
             "outlinewidth": 0,
             "ticks": ""
            },
            "colorscale": [
             [
              0,
              "#0d0887"
             ],
             [
              0.1111111111111111,
              "#46039f"
             ],
             [
              0.2222222222222222,
              "#7201a8"
             ],
             [
              0.3333333333333333,
              "#9c179e"
             ],
             [
              0.4444444444444444,
              "#bd3786"
             ],
             [
              0.5555555555555556,
              "#d8576b"
             ],
             [
              0.6666666666666666,
              "#ed7953"
             ],
             [
              0.7777777777777778,
              "#fb9f3a"
             ],
             [
              0.8888888888888888,
              "#fdca26"
             ],
             [
              1,
              "#f0f921"
             ]
            ],
            "type": "contour"
           }
          ],
          "contourcarpet": [
           {
            "colorbar": {
             "outlinewidth": 0,
             "ticks": ""
            },
            "type": "contourcarpet"
           }
          ],
          "heatmap": [
           {
            "colorbar": {
             "outlinewidth": 0,
             "ticks": ""
            },
            "colorscale": [
             [
              0,
              "#0d0887"
             ],
             [
              0.1111111111111111,
              "#46039f"
             ],
             [
              0.2222222222222222,
              "#7201a8"
             ],
             [
              0.3333333333333333,
              "#9c179e"
             ],
             [
              0.4444444444444444,
              "#bd3786"
             ],
             [
              0.5555555555555556,
              "#d8576b"
             ],
             [
              0.6666666666666666,
              "#ed7953"
             ],
             [
              0.7777777777777778,
              "#fb9f3a"
             ],
             [
              0.8888888888888888,
              "#fdca26"
             ],
             [
              1,
              "#f0f921"
             ]
            ],
            "type": "heatmap"
           }
          ],
          "heatmapgl": [
           {
            "colorbar": {
             "outlinewidth": 0,
             "ticks": ""
            },
            "colorscale": [
             [
              0,
              "#0d0887"
             ],
             [
              0.1111111111111111,
              "#46039f"
             ],
             [
              0.2222222222222222,
              "#7201a8"
             ],
             [
              0.3333333333333333,
              "#9c179e"
             ],
             [
              0.4444444444444444,
              "#bd3786"
             ],
             [
              0.5555555555555556,
              "#d8576b"
             ],
             [
              0.6666666666666666,
              "#ed7953"
             ],
             [
              0.7777777777777778,
              "#fb9f3a"
             ],
             [
              0.8888888888888888,
              "#fdca26"
             ],
             [
              1,
              "#f0f921"
             ]
            ],
            "type": "heatmapgl"
           }
          ],
          "histogram": [
           {
            "marker": {
             "pattern": {
              "fillmode": "overlay",
              "size": 10,
              "solidity": 0.2
             }
            },
            "type": "histogram"
           }
          ],
          "histogram2d": [
           {
            "colorbar": {
             "outlinewidth": 0,
             "ticks": ""
            },
            "colorscale": [
             [
              0,
              "#0d0887"
             ],
             [
              0.1111111111111111,
              "#46039f"
             ],
             [
              0.2222222222222222,
              "#7201a8"
             ],
             [
              0.3333333333333333,
              "#9c179e"
             ],
             [
              0.4444444444444444,
              "#bd3786"
             ],
             [
              0.5555555555555556,
              "#d8576b"
             ],
             [
              0.6666666666666666,
              "#ed7953"
             ],
             [
              0.7777777777777778,
              "#fb9f3a"
             ],
             [
              0.8888888888888888,
              "#fdca26"
             ],
             [
              1,
              "#f0f921"
             ]
            ],
            "type": "histogram2d"
           }
          ],
          "histogram2dcontour": [
           {
            "colorbar": {
             "outlinewidth": 0,
             "ticks": ""
            },
            "colorscale": [
             [
              0,
              "#0d0887"
             ],
             [
              0.1111111111111111,
              "#46039f"
             ],
             [
              0.2222222222222222,
              "#7201a8"
             ],
             [
              0.3333333333333333,
              "#9c179e"
             ],
             [
              0.4444444444444444,
              "#bd3786"
             ],
             [
              0.5555555555555556,
              "#d8576b"
             ],
             [
              0.6666666666666666,
              "#ed7953"
             ],
             [
              0.7777777777777778,
              "#fb9f3a"
             ],
             [
              0.8888888888888888,
              "#fdca26"
             ],
             [
              1,
              "#f0f921"
             ]
            ],
            "type": "histogram2dcontour"
           }
          ],
          "mesh3d": [
           {
            "colorbar": {
             "outlinewidth": 0,
             "ticks": ""
            },
            "type": "mesh3d"
           }
          ],
          "parcoords": [
           {
            "line": {
             "colorbar": {
              "outlinewidth": 0,
              "ticks": ""
             }
            },
            "type": "parcoords"
           }
          ],
          "pie": [
           {
            "automargin": true,
            "type": "pie"
           }
          ],
          "scatter": [
           {
            "fillpattern": {
             "fillmode": "overlay",
             "size": 10,
             "solidity": 0.2
            },
            "type": "scatter"
           }
          ],
          "scatter3d": [
           {
            "line": {
             "colorbar": {
              "outlinewidth": 0,
              "ticks": ""
             }
            },
            "marker": {
             "colorbar": {
              "outlinewidth": 0,
              "ticks": ""
             }
            },
            "type": "scatter3d"
           }
          ],
          "scattercarpet": [
           {
            "marker": {
             "colorbar": {
              "outlinewidth": 0,
              "ticks": ""
             }
            },
            "type": "scattercarpet"
           }
          ],
          "scattergeo": [
           {
            "marker": {
             "colorbar": {
              "outlinewidth": 0,
              "ticks": ""
             }
            },
            "type": "scattergeo"
           }
          ],
          "scattergl": [
           {
            "marker": {
             "colorbar": {
              "outlinewidth": 0,
              "ticks": ""
             }
            },
            "type": "scattergl"
           }
          ],
          "scattermapbox": [
           {
            "marker": {
             "colorbar": {
              "outlinewidth": 0,
              "ticks": ""
             }
            },
            "type": "scattermapbox"
           }
          ],
          "scatterpolar": [
           {
            "marker": {
             "colorbar": {
              "outlinewidth": 0,
              "ticks": ""
             }
            },
            "type": "scatterpolar"
           }
          ],
          "scatterpolargl": [
           {
            "marker": {
             "colorbar": {
              "outlinewidth": 0,
              "ticks": ""
             }
            },
            "type": "scatterpolargl"
           }
          ],
          "scatterternary": [
           {
            "marker": {
             "colorbar": {
              "outlinewidth": 0,
              "ticks": ""
             }
            },
            "type": "scatterternary"
           }
          ],
          "surface": [
           {
            "colorbar": {
             "outlinewidth": 0,
             "ticks": ""
            },
            "colorscale": [
             [
              0,
              "#0d0887"
             ],
             [
              0.1111111111111111,
              "#46039f"
             ],
             [
              0.2222222222222222,
              "#7201a8"
             ],
             [
              0.3333333333333333,
              "#9c179e"
             ],
             [
              0.4444444444444444,
              "#bd3786"
             ],
             [
              0.5555555555555556,
              "#d8576b"
             ],
             [
              0.6666666666666666,
              "#ed7953"
             ],
             [
              0.7777777777777778,
              "#fb9f3a"
             ],
             [
              0.8888888888888888,
              "#fdca26"
             ],
             [
              1,
              "#f0f921"
             ]
            ],
            "type": "surface"
           }
          ],
          "table": [
           {
            "cells": {
             "fill": {
              "color": "#EBF0F8"
             },
             "line": {
              "color": "white"
             }
            },
            "header": {
             "fill": {
              "color": "#C8D4E3"
             },
             "line": {
              "color": "white"
             }
            },
            "type": "table"
           }
          ]
         },
         "layout": {
          "annotationdefaults": {
           "arrowcolor": "#2a3f5f",
           "arrowhead": 0,
           "arrowwidth": 1
          },
          "autotypenumbers": "strict",
          "coloraxis": {
           "colorbar": {
            "outlinewidth": 0,
            "ticks": ""
           }
          },
          "colorscale": {
           "diverging": [
            [
             0,
             "#8e0152"
            ],
            [
             0.1,
             "#c51b7d"
            ],
            [
             0.2,
             "#de77ae"
            ],
            [
             0.3,
             "#f1b6da"
            ],
            [
             0.4,
             "#fde0ef"
            ],
            [
             0.5,
             "#f7f7f7"
            ],
            [
             0.6,
             "#e6f5d0"
            ],
            [
             0.7,
             "#b8e186"
            ],
            [
             0.8,
             "#7fbc41"
            ],
            [
             0.9,
             "#4d9221"
            ],
            [
             1,
             "#276419"
            ]
           ],
           "sequential": [
            [
             0,
             "#0d0887"
            ],
            [
             0.1111111111111111,
             "#46039f"
            ],
            [
             0.2222222222222222,
             "#7201a8"
            ],
            [
             0.3333333333333333,
             "#9c179e"
            ],
            [
             0.4444444444444444,
             "#bd3786"
            ],
            [
             0.5555555555555556,
             "#d8576b"
            ],
            [
             0.6666666666666666,
             "#ed7953"
            ],
            [
             0.7777777777777778,
             "#fb9f3a"
            ],
            [
             0.8888888888888888,
             "#fdca26"
            ],
            [
             1,
             "#f0f921"
            ]
           ],
           "sequentialminus": [
            [
             0,
             "#0d0887"
            ],
            [
             0.1111111111111111,
             "#46039f"
            ],
            [
             0.2222222222222222,
             "#7201a8"
            ],
            [
             0.3333333333333333,
             "#9c179e"
            ],
            [
             0.4444444444444444,
             "#bd3786"
            ],
            [
             0.5555555555555556,
             "#d8576b"
            ],
            [
             0.6666666666666666,
             "#ed7953"
            ],
            [
             0.7777777777777778,
             "#fb9f3a"
            ],
            [
             0.8888888888888888,
             "#fdca26"
            ],
            [
             1,
             "#f0f921"
            ]
           ]
          },
          "colorway": [
           "#636efa",
           "#EF553B",
           "#00cc96",
           "#ab63fa",
           "#FFA15A",
           "#19d3f3",
           "#FF6692",
           "#B6E880",
           "#FF97FF",
           "#FECB52"
          ],
          "font": {
           "color": "#2a3f5f"
          },
          "geo": {
           "bgcolor": "white",
           "lakecolor": "white",
           "landcolor": "#E5ECF6",
           "showlakes": true,
           "showland": true,
           "subunitcolor": "white"
          },
          "hoverlabel": {
           "align": "left"
          },
          "hovermode": "closest",
          "mapbox": {
           "style": "light"
          },
          "paper_bgcolor": "white",
          "plot_bgcolor": "#E5ECF6",
          "polar": {
           "angularaxis": {
            "gridcolor": "white",
            "linecolor": "white",
            "ticks": ""
           },
           "bgcolor": "#E5ECF6",
           "radialaxis": {
            "gridcolor": "white",
            "linecolor": "white",
            "ticks": ""
           }
          },
          "scene": {
           "xaxis": {
            "backgroundcolor": "#E5ECF6",
            "gridcolor": "white",
            "gridwidth": 2,
            "linecolor": "white",
            "showbackground": true,
            "ticks": "",
            "zerolinecolor": "white"
           },
           "yaxis": {
            "backgroundcolor": "#E5ECF6",
            "gridcolor": "white",
            "gridwidth": 2,
            "linecolor": "white",
            "showbackground": true,
            "ticks": "",
            "zerolinecolor": "white"
           },
           "zaxis": {
            "backgroundcolor": "#E5ECF6",
            "gridcolor": "white",
            "gridwidth": 2,
            "linecolor": "white",
            "showbackground": true,
            "ticks": "",
            "zerolinecolor": "white"
           }
          },
          "shapedefaults": {
           "line": {
            "color": "#2a3f5f"
           }
          },
          "ternary": {
           "aaxis": {
            "gridcolor": "white",
            "linecolor": "white",
            "ticks": ""
           },
           "baxis": {
            "gridcolor": "white",
            "linecolor": "white",
            "ticks": ""
           },
           "bgcolor": "#E5ECF6",
           "caxis": {
            "gridcolor": "white",
            "linecolor": "white",
            "ticks": ""
           }
          },
          "title": {
           "x": 0.05
          },
          "xaxis": {
           "automargin": true,
           "gridcolor": "white",
           "linecolor": "white",
           "ticks": "",
           "title": {
            "standoff": 15
           },
           "zerolinecolor": "white",
           "zerolinewidth": 2
          },
          "yaxis": {
           "automargin": true,
           "gridcolor": "white",
           "linecolor": "white",
           "ticks": "",
           "title": {
            "standoff": 15
           },
           "zerolinecolor": "white",
           "zerolinewidth": 2
          }
         }
        },
        "title": {
         "text": "Optimization History Plot"
        },
        "xaxis": {
         "title": {
          "text": "#Trials"
         }
        },
        "yaxis": {
         "title": {
          "text": "Objective Value"
         }
        }
       }
      }
     },
     "metadata": {},
     "output_type": "display_data"
    }
   ],
   "source": [
    "plot_optimization_history(study)"
   ]
  },
  {
   "cell_type": "markdown",
   "metadata": {},
   "source": [
    "![](OHP.png)"
   ]
  },
  {
   "cell_type": "code",
   "execution_count": 11,
   "metadata": {},
   "outputs": [
    {
     "data": {
      "application/vnd.plotly.v1+json": {
       "config": {
        "plotlyServerURL": "https://plot.ly"
       },
       "data": [
        {
         "marker": {
          "maxdisplayed": 10
         },
         "mode": "lines+markers",
         "name": "Trial0",
         "type": "scatter",
         "x": [
          0,
          1,
          2,
          3,
          4,
          5,
          6,
          7,
          8,
          9,
          10,
          11,
          12,
          13,
          14,
          15,
          16,
          17,
          18,
          19,
          20,
          21,
          22,
          23,
          24,
          25,
          26,
          27,
          28,
          29,
          30,
          31,
          32,
          33,
          34,
          35,
          36,
          37,
          38,
          39,
          40,
          41,
          42,
          43,
          44,
          45,
          46,
          47,
          48,
          49,
          50,
          51,
          52,
          53,
          54,
          55,
          56,
          57,
          58,
          59,
          60,
          61,
          62,
          63,
          64,
          65,
          66,
          67,
          68,
          69,
          70,
          71,
          72,
          73,
          74,
          75,
          76,
          77,
          78,
          79,
          80,
          81,
          82,
          83,
          84,
          85,
          86,
          87,
          88,
          89,
          90,
          91,
          92,
          93,
          94,
          95,
          96,
          97,
          98,
          99
         ],
         "y": [
          0.4473684210526315,
          0.42105263157894735,
          0.42105263157894735,
          0.42105263157894735,
          0.21052631578947367,
          0.10526315789473684,
          0.39473684210526316,
          0.1842105263157895,
          0.3421052631578947,
          0.10526315789473684,
          0.3157894736842105,
          0.39473684210526316,
          0.07894736842105265,
          0.10526315789473684,
          0.42105263157894735,
          0.1578947368421053,
          0.13157894736842102,
          0.21052631578947367,
          0.052631578947368474,
          0.1578947368421053,
          0.1842105263157895,
          0.10526315789473684,
          0.13157894736842102,
          0.3157894736842105,
          0.07894736842105265,
          0.39473684210526316,
          0.368421052631579,
          0.1842105263157895,
          0.052631578947368474,
          0.052631578947368474,
          0.368421052631579,
          0.368421052631579,
          0.1842105263157895,
          0.23684210526315785,
          0.02631578947368418,
          0.368421052631579,
          0.3421052631578947,
          0.23684210526315785,
          0.07894736842105265,
          0.02631578947368418,
          0.052631578947368474,
          0.02631578947368418,
          0.3421052631578947,
          0.1842105263157895,
          0.23684210526315785,
          0.02631578947368418,
          0.10526315789473684,
          0.02631578947368418,
          0.052631578947368474,
          0.07894736842105265,
          0.1842105263157895,
          0.07894736842105265,
          0.07894736842105265,
          0.052631578947368474,
          0.052631578947368474,
          0.26315789473684215,
          0.02631578947368418,
          0.23684210526315785,
          0.39473684210526316,
          0.02631578947368418,
          0.052631578947368474,
          0.1578947368421053,
          0.07894736842105265,
          0.02631578947368418,
          0.07894736842105265,
          0.2894736842105263,
          0.07894736842105265,
          0,
          0.02631578947368418,
          0.23684210526315785,
          0.1842105263157895,
          0.13157894736842102,
          0.02631578947368418,
          0.052631578947368474,
          0.052631578947368474,
          0.02631578947368418,
          0.052631578947368474,
          0.052631578947368474,
          0.1842105263157895,
          0.23684210526315785,
          0.07894736842105265,
          0.02631578947368418,
          0.052631578947368474,
          0.02631578947368418,
          0.26315789473684215,
          0.23684210526315785,
          0.07894736842105265,
          0.23684210526315785,
          0.02631578947368418,
          0.052631578947368474,
          0.21052631578947367,
          0.23684210526315785,
          0.21052631578947367,
          0.13157894736842102,
          0.052631578947368474,
          0.02631578947368418,
          0.07894736842105265,
          0.13157894736842102,
          0.052631578947368474,
          0.07894736842105265
         ]
        },
        {
         "marker": {
          "maxdisplayed": 10
         },
         "mode": "lines+markers",
         "name": "Trial1",
         "type": "scatter",
         "x": [
          0,
          1,
          2,
          3,
          4,
          5,
          6,
          7,
          8,
          9,
          10,
          11,
          12,
          13,
          14,
          15,
          16,
          17,
          18,
          19,
          20,
          21,
          22,
          23,
          24,
          25,
          26,
          27,
          28,
          29,
          30,
          31,
          32,
          33,
          34,
          35,
          36,
          37,
          38,
          39,
          40,
          41,
          42,
          43,
          44,
          45,
          46,
          47,
          48,
          49,
          50,
          51,
          52,
          53,
          54,
          55,
          56,
          57,
          58,
          59,
          60,
          61,
          62,
          63,
          64,
          65,
          66,
          67,
          68,
          69,
          70,
          71,
          72,
          73,
          74,
          75,
          76,
          77,
          78,
          79,
          80,
          81,
          82,
          83,
          84,
          85,
          86,
          87,
          88,
          89,
          90,
          91,
          92,
          93,
          94,
          95,
          96,
          97,
          98,
          99
         ],
         "y": [
          0.42105263157894735,
          0.07894736842105265,
          0.42105263157894735,
          0.42105263157894735,
          0.13157894736842102,
          0.1842105263157895,
          0.07894736842105265,
          0.23684210526315785,
          0.5,
          0.368421052631579,
          0.42105263157894735,
          0.42105263157894735,
          0.4736842105263158,
          0.368421052631579,
          0.1842105263157895,
          0.13157894736842102,
          0.39473684210526316,
          0.07894736842105265,
          0.13157894736842102,
          0.26315789473684215,
          0.07894736842105265,
          0.07894736842105265,
          0.39473684210526316,
          0.052631578947368474,
          0.39473684210526316,
          0.1842105263157895,
          0.42105263157894735,
          0.10526315789473684,
          0.13157894736842102,
          0.07894736842105265,
          0.3421052631578947,
          0.10526315789473684,
          0.23684210526315785,
          0.42105263157894735,
          0.39473684210526316,
          0.42105263157894735,
          0.39473684210526316,
          0.1842105263157895,
          0.5526315789473684,
          0.10526315789473684,
          0.368421052631579,
          0.07894736842105265,
          0.07894736842105265,
          0.052631578947368474,
          0.052631578947368474,
          0.39473684210526316,
          0.39473684210526316,
          0.07894736842105265,
          0.23684210526315785,
          0.42105263157894735,
          0.052631578947368474,
          0.13157894736842102,
          0.052631578947368474,
          0.3421052631578947,
          0.4736842105263158,
          0.1842105263157895,
          0.10526315789473684,
          0.39473684210526316,
          0.21052631578947367,
          0.23684210526315785,
          0.2894736842105263,
          0.3157894736842105,
          0.1578947368421053,
          0.23684210526315785,
          0.42105263157894735,
          0.2894736842105263,
          0.052631578947368474,
          0.07894736842105265,
          0.13157894736842102,
          0.2894736842105263,
          0.052631578947368474,
          0.10526315789473684,
          0.052631578947368474,
          0.39473684210526316,
          0.052631578947368474,
          0.1578947368421053,
          0.10526315789473684,
          0.052631578947368474,
          0.13157894736842102,
          0.26315789473684215,
          0.13157894736842102,
          0.39473684210526316,
          0.39473684210526316,
          0.3157894736842105,
          0.21052631578947367,
          0.07894736842105265,
          0.07894736842105265,
          0.39473684210526316,
          0.052631578947368474,
          0.3157894736842105,
          0.07894736842105265,
          0.2894736842105263,
          0.26315789473684215,
          0.3157894736842105,
          0.39473684210526316,
          0.4736842105263158,
          0.10526315789473684,
          0.23684210526315785,
          0.4736842105263158,
          0.13157894736842102
         ]
        },
        {
         "marker": {
          "maxdisplayed": 10
         },
         "mode": "lines+markers",
         "name": "Trial2",
         "type": "scatter",
         "x": [
          0,
          1,
          2,
          3,
          4,
          5,
          6,
          7,
          8,
          9,
          10,
          11,
          12,
          13,
          14,
          15,
          16,
          17,
          18,
          19,
          20,
          21,
          22,
          23,
          24,
          25,
          26,
          27,
          28,
          29,
          30,
          31,
          32,
          33,
          34,
          35,
          36,
          37,
          38,
          39,
          40,
          41,
          42,
          43,
          44,
          45,
          46,
          47,
          48,
          49,
          50,
          51,
          52,
          53,
          54,
          55,
          56,
          57,
          58,
          59,
          60,
          61,
          62,
          63,
          64,
          65,
          66,
          67,
          68,
          69,
          70,
          71,
          72,
          73,
          74,
          75,
          76,
          77,
          78,
          79,
          80,
          81,
          82,
          83,
          84,
          85,
          86,
          87,
          88,
          89,
          90,
          91,
          92,
          93,
          94,
          95,
          96,
          97,
          98,
          99
         ],
         "y": [
          0.5789473684210527,
          0.39473684210526316,
          0.5789473684210527,
          0.3421052631578947,
          0.1842105263157895,
          0.39473684210526316,
          0.42105263157894735,
          0.42105263157894735,
          0.13157894736842102,
          0.42105263157894735,
          0.07894736842105265,
          0.42105263157894735,
          0.42105263157894735,
          0.3157894736842105,
          0.42105263157894735,
          0.1842105263157895,
          0.39473684210526316,
          0.39473684210526316,
          0.39473684210526316,
          0.1578947368421053,
          0.3421052631578947,
          0.052631578947368474,
          0.39473684210526316,
          0.39473684210526316,
          0.10526315789473684,
          0.26315789473684215,
          0.42105263157894735,
          0.42105263157894735,
          0.21052631578947367,
          0.13157894736842102,
          0.26315789473684215,
          0.26315789473684215,
          0.4473684210526315,
          0.07894736842105265,
          0.052631578947368474,
          0.07894736842105265,
          0.368421052631579,
          0.3157894736842105,
          0.07894736842105265,
          0.10526315789473684,
          0.39473684210526316,
          0.10526315789473684,
          0.13157894736842102,
          0.39473684210526316,
          0.3157894736842105,
          0.39473684210526316,
          0.39473684210526316,
          0.2894736842105263,
          0.10526315789473684,
          0.2894736842105263,
          0.3157894736842105,
          0.21052631578947367,
          0.13157894736842102,
          0.2894736842105263,
          0.3157894736842105,
          0.42105263157894735,
          0.2894736842105263,
          0.21052631578947367,
          0.368421052631579,
          0.39473684210526316,
          0.42105263157894735,
          0.26315789473684215,
          0.39473684210526316,
          0.21052631578947367,
          0.07894736842105265,
          0.2894736842105263,
          0.052631578947368474,
          0.3421052631578947,
          0.07894736842105265,
          0.07894736842105265,
          0.13157894736842102,
          0.07894736842105265,
          0.26315789473684215,
          0.26315789473684215,
          0.052631578947368474,
          0.42105263157894735,
          0.21052631578947367,
          0.2894736842105263,
          0.23684210526315785,
          0.39473684210526316,
          0.21052631578947367,
          0.07894736842105265,
          0.1842105263157895,
          0.07894736842105265,
          0.39473684210526316,
          0.07894736842105265,
          0.1842105263157895,
          0.23684210526315785,
          0.3157894736842105,
          0.10526315789473684,
          0.26315789473684215,
          0.13157894736842102,
          0.07894736842105265,
          0.02631578947368418,
          0.3421052631578947,
          0.10526315789473684,
          0.02631578947368418,
          0.07894736842105265,
          0.3157894736842105,
          0.1578947368421053
         ]
        },
        {
         "marker": {
          "maxdisplayed": 10
         },
         "mode": "lines+markers",
         "name": "Trial3",
         "type": "scatter",
         "x": [
          0,
          1,
          2,
          3,
          4,
          5,
          6,
          7,
          8,
          9,
          10,
          11,
          12,
          13,
          14,
          15,
          16,
          17,
          18,
          19,
          20,
          21,
          22,
          23,
          24,
          25,
          26,
          27,
          28,
          29,
          30,
          31,
          32,
          33,
          34,
          35,
          36,
          37,
          38,
          39,
          40,
          41,
          42,
          43,
          44,
          45,
          46,
          47,
          48,
          49,
          50,
          51,
          52,
          53,
          54,
          55,
          56,
          57,
          58,
          59,
          60,
          61,
          62,
          63,
          64,
          65,
          66,
          67,
          68,
          69,
          70,
          71,
          72,
          73,
          74,
          75,
          76,
          77,
          78,
          79,
          80,
          81,
          82,
          83,
          84,
          85,
          86,
          87,
          88,
          89,
          90,
          91,
          92,
          93,
          94,
          95,
          96,
          97,
          98,
          99
         ],
         "y": [
          0.42105263157894735,
          0.39473684210526316,
          0.368421052631579,
          0.13157894736842102,
          0.3421052631578947,
          0.631578947368421,
          0.1842105263157895,
          0.2894736842105263,
          0.3157894736842105,
          0.13157894736842102,
          0.1842105263157895,
          0.42105263157894735,
          0.368421052631579,
          0.368421052631579,
          0.39473684210526316,
          0.368421052631579,
          0.3157894736842105,
          0.42105263157894735,
          0.1578947368421053,
          0.052631578947368474,
          0.42105263157894735,
          0.39473684210526316,
          0.1842105263157895,
          0.3157894736842105,
          0.39473684210526316,
          0.2894736842105263,
          0.39473684210526316,
          0.23684210526315785,
          0.10526315789473684,
          0.26315789473684215,
          0.39473684210526316,
          0.1578947368421053,
          0.13157894736842102,
          0.39473684210526316,
          0.052631578947368474,
          0.39473684210526316,
          0.39473684210526316,
          0.052631578947368474,
          0.052631578947368474,
          0.23684210526315785,
          0.07894736842105265,
          0.07894736842105265,
          0.02631578947368418,
          0.052631578947368474,
          0.052631578947368474,
          0.42105263157894735,
          0.21052631578947367,
          0.39473684210526316,
          0.21052631578947367,
          0.07894736842105265,
          0.07894736842105265,
          0.1842105263157895,
          0.10526315789473684,
          0.21052631578947367,
          0.10526315789473684,
          0.368421052631579,
          0.3157894736842105,
          0.052631578947368474,
          0.368421052631579,
          0.052631578947368474,
          0.3421052631578947,
          0.02631578947368418,
          0.052631578947368474,
          0.02631578947368418,
          0.052631578947368474,
          0.23684210526315785,
          0.10526315789473684,
          0.39473684210526316,
          0.10526315789473684,
          0.10526315789473684,
          0.07894736842105265,
          0.052631578947368474,
          0.2894736842105263,
          0.02631578947368418,
          0.23684210526315785,
          0.02631578947368418,
          0.052631578947368474,
          0.1578947368421053,
          0.368421052631579,
          0.02631578947368418,
          0.23684210526315785,
          0.07894736842105265,
          0.02631578947368418,
          0.1578947368421053,
          0.02631578947368418,
          0.23684210526315785,
          0.21052631578947367,
          0.21052631578947367,
          0.26315789473684215,
          0.02631578947368418,
          0.02631578947368418,
          0.052631578947368474,
          0.02631578947368418,
          0.23684210526315785,
          0.02631578947368418,
          0.21052631578947367,
          0.02631578947368418,
          0.02631578947368418,
          0.02631578947368418,
          0.02631578947368418
         ]
        },
        {
         "marker": {
          "maxdisplayed": 10
         },
         "mode": "lines+markers",
         "name": "Trial4",
         "type": "scatter",
         "x": [
          0,
          1,
          2,
          3,
          4,
          5,
          6,
          7,
          8,
          9,
          10,
          11,
          12,
          13,
          14,
          15,
          16,
          17,
          18,
          19,
          20,
          21,
          22,
          23,
          24,
          25,
          26,
          27,
          28,
          29,
          30,
          31,
          32,
          33,
          34,
          35,
          36,
          37,
          38,
          39,
          40,
          41,
          42,
          43,
          44,
          45,
          46,
          47,
          48,
          49,
          50,
          51,
          52,
          53,
          54,
          55,
          56,
          57,
          58,
          59,
          60,
          61,
          62,
          63,
          64,
          65,
          66,
          67,
          68,
          69,
          70,
          71,
          72,
          73,
          74,
          75,
          76,
          77,
          78,
          79,
          80,
          81,
          82,
          83,
          84,
          85,
          86,
          87,
          88,
          89,
          90,
          91,
          92,
          93,
          94,
          95,
          96,
          97,
          98,
          99
         ],
         "y": [
          0.42105263157894735,
          0.02631578947368418,
          0.26315789473684215,
          0.368421052631579,
          0.39473684210526316,
          0.1578947368421053,
          0.13157894736842102,
          0.13157894736842102,
          0.42105263157894735,
          0.052631578947368474,
          0.13157894736842102,
          0.1842105263157895,
          0.39473684210526316,
          0.2894736842105263,
          0.052631578947368474,
          0.42105263157894735,
          0.3157894736842105,
          0.3421052631578947,
          0.39473684210526316,
          0.39473684210526316,
          0.052631578947368474,
          0.10526315789473684,
          0.02631578947368418,
          0.1842105263157895,
          0.02631578947368418,
          0.1842105263157895,
          0.368421052631579,
          0.052631578947368474,
          0.02631578947368418,
          0.368421052631579,
          0.13157894736842102,
          0.1578947368421053,
          0.368421052631579,
          0.052631578947368474,
          0.2894736842105263,
          0.07894736842105265,
          0.39473684210526316,
          0.3421052631578947,
          0.26315789473684215,
          0.07894736842105265,
          0.02631578947368418,
          0.10526315789473684,
          0.07894736842105265,
          0.1842105263157895,
          0.21052631578947367,
          0.07894736842105265,
          0.13157894736842102,
          0.07894736842105265,
          0.21052631578947367,
          0.02631578947368418,
          0.02631578947368418,
          0.1842105263157895,
          0.052631578947368474,
          0.3421052631578947,
          0.052631578947368474,
          0.052631578947368474,
          0.07894736842105265,
          0.23684210526315785,
          0.02631578947368418,
          0.02631578947368418,
          0.07894736842105265,
          0.02631578947368418,
          0.02631578947368418,
          0.23684210526315785,
          0.02631578947368418,
          0.052631578947368474,
          0.3157894736842105,
          0.052631578947368474,
          0.052631578947368474,
          0.10526315789473684,
          0.10526315789473684,
          0.1842105263157895,
          0.07894736842105265,
          0.10526315789473684,
          0.10526315789473684,
          0.07894736842105265,
          0.2894736842105263,
          0.052631578947368474,
          0.052631578947368474,
          0.13157894736842102,
          0.13157894736842102,
          0.052631578947368474,
          0.07894736842105265,
          0.07894736842105265,
          0.02631578947368418,
          0.23684210526315785,
          0.052631578947368474,
          0.26315789473684215,
          0.23684210526315785,
          0.13157894736842102,
          0.26315789473684215,
          0.052631578947368474,
          0.10526315789473684,
          0.07894736842105265,
          0.07894736842105265,
          0.052631578947368474,
          0.10526315789473684,
          0.1578947368421053,
          0.3157894736842105,
          0.23684210526315785
         ]
        },
        {
         "marker": {
          "maxdisplayed": 10
         },
         "mode": "lines+markers",
         "name": "Trial5",
         "type": "scatter",
         "x": [
          0,
          1,
          2,
          3,
          4
         ],
         "y": [
          0.42105263157894735,
          0.23684210526315785,
          0.42105263157894735,
          0.368421052631579,
          0.42105263157894735
         ]
        },
        {
         "marker": {
          "maxdisplayed": 10
         },
         "mode": "lines+markers",
         "name": "Trial6",
         "type": "scatter",
         "x": [
          0,
          1
         ],
         "y": [
          0.42105263157894735,
          0.4473684210526315
         ]
        },
        {
         "marker": {
          "maxdisplayed": 10
         },
         "mode": "lines+markers",
         "name": "Trial7",
         "type": "scatter",
         "x": [
          0,
          1
         ],
         "y": [
          0.42105263157894735,
          0.42105263157894735
         ]
        },
        {
         "marker": {
          "maxdisplayed": 10
         },
         "mode": "lines+markers",
         "name": "Trial8",
         "type": "scatter",
         "x": [
          0,
          1,
          2,
          3,
          4,
          5
         ],
         "y": [
          0.42105263157894735,
          0.21052631578947367,
          0.42105263157894735,
          0.42105263157894735,
          0.23684210526315785,
          0.42105263157894735
         ]
        },
        {
         "marker": {
          "maxdisplayed": 10
         },
         "mode": "lines+markers",
         "name": "Trial9",
         "type": "scatter",
         "x": [
          0,
          1
         ],
         "y": [
          0.42105263157894735,
          0.4736842105263158
         ]
        },
        {
         "marker": {
          "maxdisplayed": 10
         },
         "mode": "lines+markers",
         "name": "Trial10",
         "type": "scatter",
         "x": [
          0,
          1,
          2,
          3,
          4,
          5,
          6,
          7,
          8,
          9,
          10,
          11,
          12,
          13,
          14,
          15,
          16,
          17,
          18,
          19,
          20,
          21,
          22,
          23,
          24,
          25,
          26,
          27,
          28,
          29,
          30,
          31,
          32,
          33,
          34
         ],
         "y": [
          0.42105263157894735,
          0.2894736842105263,
          0.07894736842105265,
          0.4473684210526315,
          0.2894736842105263,
          0.3157894736842105,
          0.368421052631579,
          0.39473684210526316,
          0.3157894736842105,
          0.368421052631579,
          0.42105263157894735,
          0.07894736842105265,
          0.26315789473684215,
          0.3421052631578947,
          0.368421052631579,
          0.2894736842105263,
          0.42105263157894735,
          0.07894736842105265,
          0.39473684210526316,
          0.42105263157894735,
          0.07894736842105265,
          0.10526315789473684,
          0.2894736842105263,
          0.2894736842105263,
          0.368421052631579,
          0.1578947368421053,
          0.1578947368421053,
          0.10526315789473684,
          0.39473684210526316,
          0.07894736842105265,
          0.1842105263157895,
          0.42105263157894735,
          0.39473684210526316,
          0.42105263157894735,
          0.39473684210526316
         ]
        },
        {
         "marker": {
          "maxdisplayed": 10
         },
         "mode": "lines+markers",
         "name": "Trial11",
         "type": "scatter",
         "x": [
          0,
          1
         ],
         "y": [
          0.42105263157894735,
          0.42105263157894735
         ]
        },
        {
         "marker": {
          "maxdisplayed": 10
         },
         "mode": "lines+markers",
         "name": "Trial12",
         "type": "scatter",
         "x": [
          0,
          1
         ],
         "y": [
          0.42105263157894735,
          0.42105263157894735
         ]
        },
        {
         "marker": {
          "maxdisplayed": 10
         },
         "mode": "lines+markers",
         "name": "Trial13",
         "type": "scatter",
         "x": [
          0,
          1,
          2,
          3,
          4
         ],
         "y": [
          0.42105263157894735,
          0.23684210526315785,
          0.42105263157894735,
          0.42105263157894735,
          0.42105263157894735
         ]
        },
        {
         "marker": {
          "maxdisplayed": 10
         },
         "mode": "lines+markers",
         "name": "Trial14",
         "type": "scatter",
         "x": [
          0
         ],
         "y": [
          0.4473684210526315
         ]
        },
        {
         "marker": {
          "maxdisplayed": 10
         },
         "mode": "lines+markers",
         "name": "Trial15",
         "type": "scatter",
         "x": [
          0,
          1
         ],
         "y": [
          0.42105263157894735,
          0.42105263157894735
         ]
        },
        {
         "marker": {
          "maxdisplayed": 10
         },
         "mode": "lines+markers",
         "name": "Trial16",
         "type": "scatter",
         "x": [
          0,
          1,
          2,
          3,
          4,
          5,
          6,
          7,
          8,
          9
         ],
         "y": [
          0.42105263157894735,
          0.39473684210526316,
          0.42105263157894735,
          0.1842105263157895,
          0.42105263157894735,
          0.42105263157894735,
          0.42105263157894735,
          0.2894736842105263,
          0.368421052631579,
          0.42105263157894735
         ]
        },
        {
         "marker": {
          "maxdisplayed": 10
         },
         "mode": "lines+markers",
         "name": "Trial17",
         "type": "scatter",
         "x": [
          0,
          1,
          2,
          3,
          4,
          5,
          6,
          7,
          8,
          9,
          10,
          11,
          12,
          13,
          14,
          15,
          16,
          17,
          18,
          19,
          20,
          21,
          22,
          23,
          24,
          25,
          26,
          27,
          28,
          29,
          30,
          31,
          32,
          33,
          34,
          35,
          36,
          37,
          38,
          39,
          40,
          41,
          42,
          43,
          44,
          45,
          46,
          47,
          48,
          49,
          50,
          51,
          52,
          53,
          54,
          55,
          56,
          57,
          58,
          59,
          60,
          61,
          62,
          63,
          64,
          65,
          66,
          67,
          68,
          69,
          70,
          71,
          72,
          73,
          74,
          75,
          76,
          77,
          78,
          79,
          80,
          81,
          82,
          83,
          84,
          85,
          86,
          87,
          88,
          89,
          90,
          91,
          92,
          93,
          94,
          95,
          96,
          97,
          98,
          99
         ],
         "y": [
          0.42105263157894735,
          0.1842105263157895,
          0.23684210526315785,
          0.42105263157894735,
          0.368421052631579,
          0.2894736842105263,
          0.42105263157894735,
          0.21052631578947367,
          0.07894736842105265,
          0.3421052631578947,
          0.2894736842105263,
          0.39473684210526316,
          0.07894736842105265,
          0.3421052631578947,
          0.23684210526315785,
          0.42105263157894735,
          0.39473684210526316,
          0.07894736842105265,
          0.1578947368421053,
          0.07894736842105265,
          0.39473684210526316,
          0.23684210526315785,
          0.3157894736842105,
          0.052631578947368474,
          0.21052631578947367,
          0.052631578947368474,
          0.07894736842105265,
          0.3157894736842105,
          0.10526315789473684,
          0.07894736842105265,
          0.07894736842105265,
          0.368421052631579,
          0.3421052631578947,
          0.02631578947368418,
          0.02631578947368418,
          0.368421052631579,
          0.3421052631578947,
          0.3421052631578947,
          0.13157894736842102,
          0.21052631578947367,
          0.10526315789473684,
          0.1842105263157895,
          0.3421052631578947,
          0.07894736842105265,
          0.07894736842105265,
          0.3157894736842105,
          0.13157894736842102,
          0.3421052631578947,
          0.07894736842105265,
          0.07894736842105265,
          0.1842105263157895,
          0.23684210526315785,
          0.052631578947368474,
          0.07894736842105265,
          0.1842105263157895,
          0.3157894736842105,
          0.07894736842105265,
          0.21052631578947367,
          0.052631578947368474,
          0.2894736842105263,
          0.07894736842105265,
          0.3157894736842105,
          0.3421052631578947,
          0.07894736842105265,
          0.052631578947368474,
          0.13157894736842102,
          0.1842105263157895,
          0.23684210526315785,
          0.07894736842105265,
          0.02631578947368418,
          0.3421052631578947,
          0.21052631578947367,
          0.26315789473684215,
          0.26315789473684215,
          0.07894736842105265,
          0.3157894736842105,
          0.21052631578947367,
          0.07894736842105265,
          0.02631578947368418,
          0.052631578947368474,
          0.3421052631578947,
          0.07894736842105265,
          0.23684210526315785,
          0.052631578947368474,
          0.1842105263157895,
          0.1842105263157895,
          0.21052631578947367,
          0.07894736842105265,
          0.052631578947368474,
          0.26315789473684215,
          0.052631578947368474,
          0.26315789473684215,
          0.052631578947368474,
          0.07894736842105265,
          0.052631578947368474,
          0.21052631578947367,
          0.23684210526315785,
          0.02631578947368418,
          0.052631578947368474,
          0.21052631578947367
         ]
        },
        {
         "marker": {
          "maxdisplayed": 10
         },
         "mode": "lines+markers",
         "name": "Trial18",
         "type": "scatter",
         "x": [
          0,
          1
         ],
         "y": [
          0.42105263157894735,
          0.5526315789473684
         ]
        },
        {
         "marker": {
          "maxdisplayed": 10
         },
         "mode": "lines+markers",
         "name": "Trial19",
         "type": "scatter",
         "x": [
          0,
          1
         ],
         "y": [
          0.42105263157894735,
          0.4473684210526315
         ]
        }
       ],
       "layout": {
        "showlegend": false,
        "template": {
         "data": {
          "bar": [
           {
            "error_x": {
             "color": "#2a3f5f"
            },
            "error_y": {
             "color": "#2a3f5f"
            },
            "marker": {
             "line": {
              "color": "#E5ECF6",
              "width": 0.5
             },
             "pattern": {
              "fillmode": "overlay",
              "size": 10,
              "solidity": 0.2
             }
            },
            "type": "bar"
           }
          ],
          "barpolar": [
           {
            "marker": {
             "line": {
              "color": "#E5ECF6",
              "width": 0.5
             },
             "pattern": {
              "fillmode": "overlay",
              "size": 10,
              "solidity": 0.2
             }
            },
            "type": "barpolar"
           }
          ],
          "carpet": [
           {
            "aaxis": {
             "endlinecolor": "#2a3f5f",
             "gridcolor": "white",
             "linecolor": "white",
             "minorgridcolor": "white",
             "startlinecolor": "#2a3f5f"
            },
            "baxis": {
             "endlinecolor": "#2a3f5f",
             "gridcolor": "white",
             "linecolor": "white",
             "minorgridcolor": "white",
             "startlinecolor": "#2a3f5f"
            },
            "type": "carpet"
           }
          ],
          "choropleth": [
           {
            "colorbar": {
             "outlinewidth": 0,
             "ticks": ""
            },
            "type": "choropleth"
           }
          ],
          "contour": [
           {
            "colorbar": {
             "outlinewidth": 0,
             "ticks": ""
            },
            "colorscale": [
             [
              0,
              "#0d0887"
             ],
             [
              0.1111111111111111,
              "#46039f"
             ],
             [
              0.2222222222222222,
              "#7201a8"
             ],
             [
              0.3333333333333333,
              "#9c179e"
             ],
             [
              0.4444444444444444,
              "#bd3786"
             ],
             [
              0.5555555555555556,
              "#d8576b"
             ],
             [
              0.6666666666666666,
              "#ed7953"
             ],
             [
              0.7777777777777778,
              "#fb9f3a"
             ],
             [
              0.8888888888888888,
              "#fdca26"
             ],
             [
              1,
              "#f0f921"
             ]
            ],
            "type": "contour"
           }
          ],
          "contourcarpet": [
           {
            "colorbar": {
             "outlinewidth": 0,
             "ticks": ""
            },
            "type": "contourcarpet"
           }
          ],
          "heatmap": [
           {
            "colorbar": {
             "outlinewidth": 0,
             "ticks": ""
            },
            "colorscale": [
             [
              0,
              "#0d0887"
             ],
             [
              0.1111111111111111,
              "#46039f"
             ],
             [
              0.2222222222222222,
              "#7201a8"
             ],
             [
              0.3333333333333333,
              "#9c179e"
             ],
             [
              0.4444444444444444,
              "#bd3786"
             ],
             [
              0.5555555555555556,
              "#d8576b"
             ],
             [
              0.6666666666666666,
              "#ed7953"
             ],
             [
              0.7777777777777778,
              "#fb9f3a"
             ],
             [
              0.8888888888888888,
              "#fdca26"
             ],
             [
              1,
              "#f0f921"
             ]
            ],
            "type": "heatmap"
           }
          ],
          "heatmapgl": [
           {
            "colorbar": {
             "outlinewidth": 0,
             "ticks": ""
            },
            "colorscale": [
             [
              0,
              "#0d0887"
             ],
             [
              0.1111111111111111,
              "#46039f"
             ],
             [
              0.2222222222222222,
              "#7201a8"
             ],
             [
              0.3333333333333333,
              "#9c179e"
             ],
             [
              0.4444444444444444,
              "#bd3786"
             ],
             [
              0.5555555555555556,
              "#d8576b"
             ],
             [
              0.6666666666666666,
              "#ed7953"
             ],
             [
              0.7777777777777778,
              "#fb9f3a"
             ],
             [
              0.8888888888888888,
              "#fdca26"
             ],
             [
              1,
              "#f0f921"
             ]
            ],
            "type": "heatmapgl"
           }
          ],
          "histogram": [
           {
            "marker": {
             "pattern": {
              "fillmode": "overlay",
              "size": 10,
              "solidity": 0.2
             }
            },
            "type": "histogram"
           }
          ],
          "histogram2d": [
           {
            "colorbar": {
             "outlinewidth": 0,
             "ticks": ""
            },
            "colorscale": [
             [
              0,
              "#0d0887"
             ],
             [
              0.1111111111111111,
              "#46039f"
             ],
             [
              0.2222222222222222,
              "#7201a8"
             ],
             [
              0.3333333333333333,
              "#9c179e"
             ],
             [
              0.4444444444444444,
              "#bd3786"
             ],
             [
              0.5555555555555556,
              "#d8576b"
             ],
             [
              0.6666666666666666,
              "#ed7953"
             ],
             [
              0.7777777777777778,
              "#fb9f3a"
             ],
             [
              0.8888888888888888,
              "#fdca26"
             ],
             [
              1,
              "#f0f921"
             ]
            ],
            "type": "histogram2d"
           }
          ],
          "histogram2dcontour": [
           {
            "colorbar": {
             "outlinewidth": 0,
             "ticks": ""
            },
            "colorscale": [
             [
              0,
              "#0d0887"
             ],
             [
              0.1111111111111111,
              "#46039f"
             ],
             [
              0.2222222222222222,
              "#7201a8"
             ],
             [
              0.3333333333333333,
              "#9c179e"
             ],
             [
              0.4444444444444444,
              "#bd3786"
             ],
             [
              0.5555555555555556,
              "#d8576b"
             ],
             [
              0.6666666666666666,
              "#ed7953"
             ],
             [
              0.7777777777777778,
              "#fb9f3a"
             ],
             [
              0.8888888888888888,
              "#fdca26"
             ],
             [
              1,
              "#f0f921"
             ]
            ],
            "type": "histogram2dcontour"
           }
          ],
          "mesh3d": [
           {
            "colorbar": {
             "outlinewidth": 0,
             "ticks": ""
            },
            "type": "mesh3d"
           }
          ],
          "parcoords": [
           {
            "line": {
             "colorbar": {
              "outlinewidth": 0,
              "ticks": ""
             }
            },
            "type": "parcoords"
           }
          ],
          "pie": [
           {
            "automargin": true,
            "type": "pie"
           }
          ],
          "scatter": [
           {
            "fillpattern": {
             "fillmode": "overlay",
             "size": 10,
             "solidity": 0.2
            },
            "type": "scatter"
           }
          ],
          "scatter3d": [
           {
            "line": {
             "colorbar": {
              "outlinewidth": 0,
              "ticks": ""
             }
            },
            "marker": {
             "colorbar": {
              "outlinewidth": 0,
              "ticks": ""
             }
            },
            "type": "scatter3d"
           }
          ],
          "scattercarpet": [
           {
            "marker": {
             "colorbar": {
              "outlinewidth": 0,
              "ticks": ""
             }
            },
            "type": "scattercarpet"
           }
          ],
          "scattergeo": [
           {
            "marker": {
             "colorbar": {
              "outlinewidth": 0,
              "ticks": ""
             }
            },
            "type": "scattergeo"
           }
          ],
          "scattergl": [
           {
            "marker": {
             "colorbar": {
              "outlinewidth": 0,
              "ticks": ""
             }
            },
            "type": "scattergl"
           }
          ],
          "scattermapbox": [
           {
            "marker": {
             "colorbar": {
              "outlinewidth": 0,
              "ticks": ""
             }
            },
            "type": "scattermapbox"
           }
          ],
          "scatterpolar": [
           {
            "marker": {
             "colorbar": {
              "outlinewidth": 0,
              "ticks": ""
             }
            },
            "type": "scatterpolar"
           }
          ],
          "scatterpolargl": [
           {
            "marker": {
             "colorbar": {
              "outlinewidth": 0,
              "ticks": ""
             }
            },
            "type": "scatterpolargl"
           }
          ],
          "scatterternary": [
           {
            "marker": {
             "colorbar": {
              "outlinewidth": 0,
              "ticks": ""
             }
            },
            "type": "scatterternary"
           }
          ],
          "surface": [
           {
            "colorbar": {
             "outlinewidth": 0,
             "ticks": ""
            },
            "colorscale": [
             [
              0,
              "#0d0887"
             ],
             [
              0.1111111111111111,
              "#46039f"
             ],
             [
              0.2222222222222222,
              "#7201a8"
             ],
             [
              0.3333333333333333,
              "#9c179e"
             ],
             [
              0.4444444444444444,
              "#bd3786"
             ],
             [
              0.5555555555555556,
              "#d8576b"
             ],
             [
              0.6666666666666666,
              "#ed7953"
             ],
             [
              0.7777777777777778,
              "#fb9f3a"
             ],
             [
              0.8888888888888888,
              "#fdca26"
             ],
             [
              1,
              "#f0f921"
             ]
            ],
            "type": "surface"
           }
          ],
          "table": [
           {
            "cells": {
             "fill": {
              "color": "#EBF0F8"
             },
             "line": {
              "color": "white"
             }
            },
            "header": {
             "fill": {
              "color": "#C8D4E3"
             },
             "line": {
              "color": "white"
             }
            },
            "type": "table"
           }
          ]
         },
         "layout": {
          "annotationdefaults": {
           "arrowcolor": "#2a3f5f",
           "arrowhead": 0,
           "arrowwidth": 1
          },
          "autotypenumbers": "strict",
          "coloraxis": {
           "colorbar": {
            "outlinewidth": 0,
            "ticks": ""
           }
          },
          "colorscale": {
           "diverging": [
            [
             0,
             "#8e0152"
            ],
            [
             0.1,
             "#c51b7d"
            ],
            [
             0.2,
             "#de77ae"
            ],
            [
             0.3,
             "#f1b6da"
            ],
            [
             0.4,
             "#fde0ef"
            ],
            [
             0.5,
             "#f7f7f7"
            ],
            [
             0.6,
             "#e6f5d0"
            ],
            [
             0.7,
             "#b8e186"
            ],
            [
             0.8,
             "#7fbc41"
            ],
            [
             0.9,
             "#4d9221"
            ],
            [
             1,
             "#276419"
            ]
           ],
           "sequential": [
            [
             0,
             "#0d0887"
            ],
            [
             0.1111111111111111,
             "#46039f"
            ],
            [
             0.2222222222222222,
             "#7201a8"
            ],
            [
             0.3333333333333333,
             "#9c179e"
            ],
            [
             0.4444444444444444,
             "#bd3786"
            ],
            [
             0.5555555555555556,
             "#d8576b"
            ],
            [
             0.6666666666666666,
             "#ed7953"
            ],
            [
             0.7777777777777778,
             "#fb9f3a"
            ],
            [
             0.8888888888888888,
             "#fdca26"
            ],
            [
             1,
             "#f0f921"
            ]
           ],
           "sequentialminus": [
            [
             0,
             "#0d0887"
            ],
            [
             0.1111111111111111,
             "#46039f"
            ],
            [
             0.2222222222222222,
             "#7201a8"
            ],
            [
             0.3333333333333333,
             "#9c179e"
            ],
            [
             0.4444444444444444,
             "#bd3786"
            ],
            [
             0.5555555555555556,
             "#d8576b"
            ],
            [
             0.6666666666666666,
             "#ed7953"
            ],
            [
             0.7777777777777778,
             "#fb9f3a"
            ],
            [
             0.8888888888888888,
             "#fdca26"
            ],
            [
             1,
             "#f0f921"
            ]
           ]
          },
          "colorway": [
           "#636efa",
           "#EF553B",
           "#00cc96",
           "#ab63fa",
           "#FFA15A",
           "#19d3f3",
           "#FF6692",
           "#B6E880",
           "#FF97FF",
           "#FECB52"
          ],
          "font": {
           "color": "#2a3f5f"
          },
          "geo": {
           "bgcolor": "white",
           "lakecolor": "white",
           "landcolor": "#E5ECF6",
           "showlakes": true,
           "showland": true,
           "subunitcolor": "white"
          },
          "hoverlabel": {
           "align": "left"
          },
          "hovermode": "closest",
          "mapbox": {
           "style": "light"
          },
          "paper_bgcolor": "white",
          "plot_bgcolor": "#E5ECF6",
          "polar": {
           "angularaxis": {
            "gridcolor": "white",
            "linecolor": "white",
            "ticks": ""
           },
           "bgcolor": "#E5ECF6",
           "radialaxis": {
            "gridcolor": "white",
            "linecolor": "white",
            "ticks": ""
           }
          },
          "scene": {
           "xaxis": {
            "backgroundcolor": "#E5ECF6",
            "gridcolor": "white",
            "gridwidth": 2,
            "linecolor": "white",
            "showbackground": true,
            "ticks": "",
            "zerolinecolor": "white"
           },
           "yaxis": {
            "backgroundcolor": "#E5ECF6",
            "gridcolor": "white",
            "gridwidth": 2,
            "linecolor": "white",
            "showbackground": true,
            "ticks": "",
            "zerolinecolor": "white"
           },
           "zaxis": {
            "backgroundcolor": "#E5ECF6",
            "gridcolor": "white",
            "gridwidth": 2,
            "linecolor": "white",
            "showbackground": true,
            "ticks": "",
            "zerolinecolor": "white"
           }
          },
          "shapedefaults": {
           "line": {
            "color": "#2a3f5f"
           }
          },
          "ternary": {
           "aaxis": {
            "gridcolor": "white",
            "linecolor": "white",
            "ticks": ""
           },
           "baxis": {
            "gridcolor": "white",
            "linecolor": "white",
            "ticks": ""
           },
           "bgcolor": "#E5ECF6",
           "caxis": {
            "gridcolor": "white",
            "linecolor": "white",
            "ticks": ""
           }
          },
          "title": {
           "x": 0.05
          },
          "xaxis": {
           "automargin": true,
           "gridcolor": "white",
           "linecolor": "white",
           "ticks": "",
           "title": {
            "standoff": 15
           },
           "zerolinecolor": "white",
           "zerolinewidth": 2
          },
          "yaxis": {
           "automargin": true,
           "gridcolor": "white",
           "linecolor": "white",
           "ticks": "",
           "title": {
            "standoff": 15
           },
           "zerolinecolor": "white",
           "zerolinewidth": 2
          }
         }
        },
        "title": {
         "text": "Intermediate Values Plot"
        },
        "xaxis": {
         "title": {
          "text": "Step"
         }
        },
        "yaxis": {
         "title": {
          "text": "Intermediate Value"
         }
        }
       }
      }
     },
     "metadata": {},
     "output_type": "display_data"
    }
   ],
   "source": [
    "plot_intermediate_values(study)"
   ]
  },
  {
   "cell_type": "markdown",
   "metadata": {},
   "source": [
    "![](IVP.png)"
   ]
  },
  {
   "cell_type": "code",
   "execution_count": 12,
   "metadata": {},
   "outputs": [
    {
     "data": {
      "application/vnd.plotly.v1+json": {
       "config": {
        "plotlyServerURL": "https://plot.ly"
       },
       "data": [
        {
         "dimensions": [
          {
           "label": "Objective Value",
           "range": [
            0.02631578947368418,
            0.23684210526315785
           ],
           "values": [
            0.07894736842105265,
            0.13157894736842102,
            0.1578947368421053,
            0.02631578947368418,
            0.23684210526315785,
            0.21052631578947367
           ]
          },
          {
           "label": "alpha",
           "range": [
            -3.9075700995544165,
            -1.8656983849911961
           ],
           "ticktext": [
            "0.000124",
            "0.001",
            "0.01",
            "0.0136"
           ],
           "tickvals": [
            -3.9075700995544165,
            -3,
            -2,
            -1.8656983849911961
           ],
           "values": [
            -2.3022547528936577,
            -3.9075700995544165,
            -3.5140913279658856,
            -3.002541382822715,
            -2.3347382765870277,
            -1.8656983849911961
           ]
          }
         ],
         "labelangle": 30,
         "labelside": "bottom",
         "line": {
          "color": [
           0.07894736842105265,
           0.13157894736842102,
           0.1578947368421053,
           0.02631578947368418,
           0.23684210526315785,
           0.21052631578947367
          ],
          "colorbar": {
           "title": {
            "text": "Objective Value"
           }
          },
          "colorscale": [
           [
            0,
            "rgb(247,251,255)"
           ],
           [
            0.125,
            "rgb(222,235,247)"
           ],
           [
            0.25,
            "rgb(198,219,239)"
           ],
           [
            0.375,
            "rgb(158,202,225)"
           ],
           [
            0.5,
            "rgb(107,174,214)"
           ],
           [
            0.625,
            "rgb(66,146,198)"
           ],
           [
            0.75,
            "rgb(33,113,181)"
           ],
           [
            0.875,
            "rgb(8,81,156)"
           ],
           [
            1,
            "rgb(8,48,107)"
           ]
          ],
          "reversescale": true,
          "showscale": true
         },
         "type": "parcoords"
        }
       ],
       "layout": {
        "template": {
         "data": {
          "bar": [
           {
            "error_x": {
             "color": "#2a3f5f"
            },
            "error_y": {
             "color": "#2a3f5f"
            },
            "marker": {
             "line": {
              "color": "#E5ECF6",
              "width": 0.5
             },
             "pattern": {
              "fillmode": "overlay",
              "size": 10,
              "solidity": 0.2
             }
            },
            "type": "bar"
           }
          ],
          "barpolar": [
           {
            "marker": {
             "line": {
              "color": "#E5ECF6",
              "width": 0.5
             },
             "pattern": {
              "fillmode": "overlay",
              "size": 10,
              "solidity": 0.2
             }
            },
            "type": "barpolar"
           }
          ],
          "carpet": [
           {
            "aaxis": {
             "endlinecolor": "#2a3f5f",
             "gridcolor": "white",
             "linecolor": "white",
             "minorgridcolor": "white",
             "startlinecolor": "#2a3f5f"
            },
            "baxis": {
             "endlinecolor": "#2a3f5f",
             "gridcolor": "white",
             "linecolor": "white",
             "minorgridcolor": "white",
             "startlinecolor": "#2a3f5f"
            },
            "type": "carpet"
           }
          ],
          "choropleth": [
           {
            "colorbar": {
             "outlinewidth": 0,
             "ticks": ""
            },
            "type": "choropleth"
           }
          ],
          "contour": [
           {
            "colorbar": {
             "outlinewidth": 0,
             "ticks": ""
            },
            "colorscale": [
             [
              0,
              "#0d0887"
             ],
             [
              0.1111111111111111,
              "#46039f"
             ],
             [
              0.2222222222222222,
              "#7201a8"
             ],
             [
              0.3333333333333333,
              "#9c179e"
             ],
             [
              0.4444444444444444,
              "#bd3786"
             ],
             [
              0.5555555555555556,
              "#d8576b"
             ],
             [
              0.6666666666666666,
              "#ed7953"
             ],
             [
              0.7777777777777778,
              "#fb9f3a"
             ],
             [
              0.8888888888888888,
              "#fdca26"
             ],
             [
              1,
              "#f0f921"
             ]
            ],
            "type": "contour"
           }
          ],
          "contourcarpet": [
           {
            "colorbar": {
             "outlinewidth": 0,
             "ticks": ""
            },
            "type": "contourcarpet"
           }
          ],
          "heatmap": [
           {
            "colorbar": {
             "outlinewidth": 0,
             "ticks": ""
            },
            "colorscale": [
             [
              0,
              "#0d0887"
             ],
             [
              0.1111111111111111,
              "#46039f"
             ],
             [
              0.2222222222222222,
              "#7201a8"
             ],
             [
              0.3333333333333333,
              "#9c179e"
             ],
             [
              0.4444444444444444,
              "#bd3786"
             ],
             [
              0.5555555555555556,
              "#d8576b"
             ],
             [
              0.6666666666666666,
              "#ed7953"
             ],
             [
              0.7777777777777778,
              "#fb9f3a"
             ],
             [
              0.8888888888888888,
              "#fdca26"
             ],
             [
              1,
              "#f0f921"
             ]
            ],
            "type": "heatmap"
           }
          ],
          "heatmapgl": [
           {
            "colorbar": {
             "outlinewidth": 0,
             "ticks": ""
            },
            "colorscale": [
             [
              0,
              "#0d0887"
             ],
             [
              0.1111111111111111,
              "#46039f"
             ],
             [
              0.2222222222222222,
              "#7201a8"
             ],
             [
              0.3333333333333333,
              "#9c179e"
             ],
             [
              0.4444444444444444,
              "#bd3786"
             ],
             [
              0.5555555555555556,
              "#d8576b"
             ],
             [
              0.6666666666666666,
              "#ed7953"
             ],
             [
              0.7777777777777778,
              "#fb9f3a"
             ],
             [
              0.8888888888888888,
              "#fdca26"
             ],
             [
              1,
              "#f0f921"
             ]
            ],
            "type": "heatmapgl"
           }
          ],
          "histogram": [
           {
            "marker": {
             "pattern": {
              "fillmode": "overlay",
              "size": 10,
              "solidity": 0.2
             }
            },
            "type": "histogram"
           }
          ],
          "histogram2d": [
           {
            "colorbar": {
             "outlinewidth": 0,
             "ticks": ""
            },
            "colorscale": [
             [
              0,
              "#0d0887"
             ],
             [
              0.1111111111111111,
              "#46039f"
             ],
             [
              0.2222222222222222,
              "#7201a8"
             ],
             [
              0.3333333333333333,
              "#9c179e"
             ],
             [
              0.4444444444444444,
              "#bd3786"
             ],
             [
              0.5555555555555556,
              "#d8576b"
             ],
             [
              0.6666666666666666,
              "#ed7953"
             ],
             [
              0.7777777777777778,
              "#fb9f3a"
             ],
             [
              0.8888888888888888,
              "#fdca26"
             ],
             [
              1,
              "#f0f921"
             ]
            ],
            "type": "histogram2d"
           }
          ],
          "histogram2dcontour": [
           {
            "colorbar": {
             "outlinewidth": 0,
             "ticks": ""
            },
            "colorscale": [
             [
              0,
              "#0d0887"
             ],
             [
              0.1111111111111111,
              "#46039f"
             ],
             [
              0.2222222222222222,
              "#7201a8"
             ],
             [
              0.3333333333333333,
              "#9c179e"
             ],
             [
              0.4444444444444444,
              "#bd3786"
             ],
             [
              0.5555555555555556,
              "#d8576b"
             ],
             [
              0.6666666666666666,
              "#ed7953"
             ],
             [
              0.7777777777777778,
              "#fb9f3a"
             ],
             [
              0.8888888888888888,
              "#fdca26"
             ],
             [
              1,
              "#f0f921"
             ]
            ],
            "type": "histogram2dcontour"
           }
          ],
          "mesh3d": [
           {
            "colorbar": {
             "outlinewidth": 0,
             "ticks": ""
            },
            "type": "mesh3d"
           }
          ],
          "parcoords": [
           {
            "line": {
             "colorbar": {
              "outlinewidth": 0,
              "ticks": ""
             }
            },
            "type": "parcoords"
           }
          ],
          "pie": [
           {
            "automargin": true,
            "type": "pie"
           }
          ],
          "scatter": [
           {
            "fillpattern": {
             "fillmode": "overlay",
             "size": 10,
             "solidity": 0.2
            },
            "type": "scatter"
           }
          ],
          "scatter3d": [
           {
            "line": {
             "colorbar": {
              "outlinewidth": 0,
              "ticks": ""
             }
            },
            "marker": {
             "colorbar": {
              "outlinewidth": 0,
              "ticks": ""
             }
            },
            "type": "scatter3d"
           }
          ],
          "scattercarpet": [
           {
            "marker": {
             "colorbar": {
              "outlinewidth": 0,
              "ticks": ""
             }
            },
            "type": "scattercarpet"
           }
          ],
          "scattergeo": [
           {
            "marker": {
             "colorbar": {
              "outlinewidth": 0,
              "ticks": ""
             }
            },
            "type": "scattergeo"
           }
          ],
          "scattergl": [
           {
            "marker": {
             "colorbar": {
              "outlinewidth": 0,
              "ticks": ""
             }
            },
            "type": "scattergl"
           }
          ],
          "scattermapbox": [
           {
            "marker": {
             "colorbar": {
              "outlinewidth": 0,
              "ticks": ""
             }
            },
            "type": "scattermapbox"
           }
          ],
          "scatterpolar": [
           {
            "marker": {
             "colorbar": {
              "outlinewidth": 0,
              "ticks": ""
             }
            },
            "type": "scatterpolar"
           }
          ],
          "scatterpolargl": [
           {
            "marker": {
             "colorbar": {
              "outlinewidth": 0,
              "ticks": ""
             }
            },
            "type": "scatterpolargl"
           }
          ],
          "scatterternary": [
           {
            "marker": {
             "colorbar": {
              "outlinewidth": 0,
              "ticks": ""
             }
            },
            "type": "scatterternary"
           }
          ],
          "surface": [
           {
            "colorbar": {
             "outlinewidth": 0,
             "ticks": ""
            },
            "colorscale": [
             [
              0,
              "#0d0887"
             ],
             [
              0.1111111111111111,
              "#46039f"
             ],
             [
              0.2222222222222222,
              "#7201a8"
             ],
             [
              0.3333333333333333,
              "#9c179e"
             ],
             [
              0.4444444444444444,
              "#bd3786"
             ],
             [
              0.5555555555555556,
              "#d8576b"
             ],
             [
              0.6666666666666666,
              "#ed7953"
             ],
             [
              0.7777777777777778,
              "#fb9f3a"
             ],
             [
              0.8888888888888888,
              "#fdca26"
             ],
             [
              1,
              "#f0f921"
             ]
            ],
            "type": "surface"
           }
          ],
          "table": [
           {
            "cells": {
             "fill": {
              "color": "#EBF0F8"
             },
             "line": {
              "color": "white"
             }
            },
            "header": {
             "fill": {
              "color": "#C8D4E3"
             },
             "line": {
              "color": "white"
             }
            },
            "type": "table"
           }
          ]
         },
         "layout": {
          "annotationdefaults": {
           "arrowcolor": "#2a3f5f",
           "arrowhead": 0,
           "arrowwidth": 1
          },
          "autotypenumbers": "strict",
          "coloraxis": {
           "colorbar": {
            "outlinewidth": 0,
            "ticks": ""
           }
          },
          "colorscale": {
           "diverging": [
            [
             0,
             "#8e0152"
            ],
            [
             0.1,
             "#c51b7d"
            ],
            [
             0.2,
             "#de77ae"
            ],
            [
             0.3,
             "#f1b6da"
            ],
            [
             0.4,
             "#fde0ef"
            ],
            [
             0.5,
             "#f7f7f7"
            ],
            [
             0.6,
             "#e6f5d0"
            ],
            [
             0.7,
             "#b8e186"
            ],
            [
             0.8,
             "#7fbc41"
            ],
            [
             0.9,
             "#4d9221"
            ],
            [
             1,
             "#276419"
            ]
           ],
           "sequential": [
            [
             0,
             "#0d0887"
            ],
            [
             0.1111111111111111,
             "#46039f"
            ],
            [
             0.2222222222222222,
             "#7201a8"
            ],
            [
             0.3333333333333333,
             "#9c179e"
            ],
            [
             0.4444444444444444,
             "#bd3786"
            ],
            [
             0.5555555555555556,
             "#d8576b"
            ],
            [
             0.6666666666666666,
             "#ed7953"
            ],
            [
             0.7777777777777778,
             "#fb9f3a"
            ],
            [
             0.8888888888888888,
             "#fdca26"
            ],
            [
             1,
             "#f0f921"
            ]
           ],
           "sequentialminus": [
            [
             0,
             "#0d0887"
            ],
            [
             0.1111111111111111,
             "#46039f"
            ],
            [
             0.2222222222222222,
             "#7201a8"
            ],
            [
             0.3333333333333333,
             "#9c179e"
            ],
            [
             0.4444444444444444,
             "#bd3786"
            ],
            [
             0.5555555555555556,
             "#d8576b"
            ],
            [
             0.6666666666666666,
             "#ed7953"
            ],
            [
             0.7777777777777778,
             "#fb9f3a"
            ],
            [
             0.8888888888888888,
             "#fdca26"
            ],
            [
             1,
             "#f0f921"
            ]
           ]
          },
          "colorway": [
           "#636efa",
           "#EF553B",
           "#00cc96",
           "#ab63fa",
           "#FFA15A",
           "#19d3f3",
           "#FF6692",
           "#B6E880",
           "#FF97FF",
           "#FECB52"
          ],
          "font": {
           "color": "#2a3f5f"
          },
          "geo": {
           "bgcolor": "white",
           "lakecolor": "white",
           "landcolor": "#E5ECF6",
           "showlakes": true,
           "showland": true,
           "subunitcolor": "white"
          },
          "hoverlabel": {
           "align": "left"
          },
          "hovermode": "closest",
          "mapbox": {
           "style": "light"
          },
          "paper_bgcolor": "white",
          "plot_bgcolor": "#E5ECF6",
          "polar": {
           "angularaxis": {
            "gridcolor": "white",
            "linecolor": "white",
            "ticks": ""
           },
           "bgcolor": "#E5ECF6",
           "radialaxis": {
            "gridcolor": "white",
            "linecolor": "white",
            "ticks": ""
           }
          },
          "scene": {
           "xaxis": {
            "backgroundcolor": "#E5ECF6",
            "gridcolor": "white",
            "gridwidth": 2,
            "linecolor": "white",
            "showbackground": true,
            "ticks": "",
            "zerolinecolor": "white"
           },
           "yaxis": {
            "backgroundcolor": "#E5ECF6",
            "gridcolor": "white",
            "gridwidth": 2,
            "linecolor": "white",
            "showbackground": true,
            "ticks": "",
            "zerolinecolor": "white"
           },
           "zaxis": {
            "backgroundcolor": "#E5ECF6",
            "gridcolor": "white",
            "gridwidth": 2,
            "linecolor": "white",
            "showbackground": true,
            "ticks": "",
            "zerolinecolor": "white"
           }
          },
          "shapedefaults": {
           "line": {
            "color": "#2a3f5f"
           }
          },
          "ternary": {
           "aaxis": {
            "gridcolor": "white",
            "linecolor": "white",
            "ticks": ""
           },
           "baxis": {
            "gridcolor": "white",
            "linecolor": "white",
            "ticks": ""
           },
           "bgcolor": "#E5ECF6",
           "caxis": {
            "gridcolor": "white",
            "linecolor": "white",
            "ticks": ""
           }
          },
          "title": {
           "x": 0.05
          },
          "xaxis": {
           "automargin": true,
           "gridcolor": "white",
           "linecolor": "white",
           "ticks": "",
           "title": {
            "standoff": 15
           },
           "zerolinecolor": "white",
           "zerolinewidth": 2
          },
          "yaxis": {
           "automargin": true,
           "gridcolor": "white",
           "linecolor": "white",
           "ticks": "",
           "title": {
            "standoff": 15
           },
           "zerolinecolor": "white",
           "zerolinewidth": 2
          }
         }
        },
        "title": {
         "text": "Parallel Coordinate Plot"
        }
       }
      }
     },
     "metadata": {},
     "output_type": "display_data"
    }
   ],
   "source": [
    "plot_parallel_coordinate(study)"
   ]
  },
  {
   "cell_type": "markdown",
   "metadata": {},
   "source": [
    "![](PCP.png)"
   ]
  },
  {
   "cell_type": "code",
   "execution_count": 13,
   "metadata": {},
   "outputs": [
    {
     "data": {
      "application/vnd.plotly.v1+json": {
       "config": {
        "plotlyServerURL": "https://plot.ly"
       },
       "data": [
        {
         "marker": {
          "color": [
           0,
           1,
           2,
           3,
           4,
           17
          ],
          "colorbar": {
           "title": {
            "text": "#Trials"
           },
           "x": 1,
           "xpad": 40
          },
          "colorscale": [
           [
            0,
            "rgb(247,251,255)"
           ],
           [
            0.125,
            "rgb(222,235,247)"
           ],
           [
            0.25,
            "rgb(198,219,239)"
           ],
           [
            0.375,
            "rgb(158,202,225)"
           ],
           [
            0.5,
            "rgb(107,174,214)"
           ],
           [
            0.625,
            "rgb(66,146,198)"
           ],
           [
            0.75,
            "rgb(33,113,181)"
           ],
           [
            0.875,
            "rgb(8,81,156)"
           ],
           [
            1,
            "rgb(8,48,107)"
           ]
          ],
          "line": {
           "color": "Grey",
           "width": 0.5
          }
         },
         "mode": "markers",
         "showlegend": false,
         "type": "scatter",
         "x": [
          0.004985919325144095,
          0.00012371714817355944,
          0.0003061319599834579,
          0.0009941653379389513,
          0.004626597548760444,
          0.01362390526336521
         ],
         "y": [
          0.07894736842105265,
          0.13157894736842102,
          0.1578947368421053,
          0.02631578947368418,
          0.23684210526315785,
          0.21052631578947367
         ]
        }
       ],
       "layout": {
        "template": {
         "data": {
          "bar": [
           {
            "error_x": {
             "color": "#2a3f5f"
            },
            "error_y": {
             "color": "#2a3f5f"
            },
            "marker": {
             "line": {
              "color": "#E5ECF6",
              "width": 0.5
             },
             "pattern": {
              "fillmode": "overlay",
              "size": 10,
              "solidity": 0.2
             }
            },
            "type": "bar"
           }
          ],
          "barpolar": [
           {
            "marker": {
             "line": {
              "color": "#E5ECF6",
              "width": 0.5
             },
             "pattern": {
              "fillmode": "overlay",
              "size": 10,
              "solidity": 0.2
             }
            },
            "type": "barpolar"
           }
          ],
          "carpet": [
           {
            "aaxis": {
             "endlinecolor": "#2a3f5f",
             "gridcolor": "white",
             "linecolor": "white",
             "minorgridcolor": "white",
             "startlinecolor": "#2a3f5f"
            },
            "baxis": {
             "endlinecolor": "#2a3f5f",
             "gridcolor": "white",
             "linecolor": "white",
             "minorgridcolor": "white",
             "startlinecolor": "#2a3f5f"
            },
            "type": "carpet"
           }
          ],
          "choropleth": [
           {
            "colorbar": {
             "outlinewidth": 0,
             "ticks": ""
            },
            "type": "choropleth"
           }
          ],
          "contour": [
           {
            "colorbar": {
             "outlinewidth": 0,
             "ticks": ""
            },
            "colorscale": [
             [
              0,
              "#0d0887"
             ],
             [
              0.1111111111111111,
              "#46039f"
             ],
             [
              0.2222222222222222,
              "#7201a8"
             ],
             [
              0.3333333333333333,
              "#9c179e"
             ],
             [
              0.4444444444444444,
              "#bd3786"
             ],
             [
              0.5555555555555556,
              "#d8576b"
             ],
             [
              0.6666666666666666,
              "#ed7953"
             ],
             [
              0.7777777777777778,
              "#fb9f3a"
             ],
             [
              0.8888888888888888,
              "#fdca26"
             ],
             [
              1,
              "#f0f921"
             ]
            ],
            "type": "contour"
           }
          ],
          "contourcarpet": [
           {
            "colorbar": {
             "outlinewidth": 0,
             "ticks": ""
            },
            "type": "contourcarpet"
           }
          ],
          "heatmap": [
           {
            "colorbar": {
             "outlinewidth": 0,
             "ticks": ""
            },
            "colorscale": [
             [
              0,
              "#0d0887"
             ],
             [
              0.1111111111111111,
              "#46039f"
             ],
             [
              0.2222222222222222,
              "#7201a8"
             ],
             [
              0.3333333333333333,
              "#9c179e"
             ],
             [
              0.4444444444444444,
              "#bd3786"
             ],
             [
              0.5555555555555556,
              "#d8576b"
             ],
             [
              0.6666666666666666,
              "#ed7953"
             ],
             [
              0.7777777777777778,
              "#fb9f3a"
             ],
             [
              0.8888888888888888,
              "#fdca26"
             ],
             [
              1,
              "#f0f921"
             ]
            ],
            "type": "heatmap"
           }
          ],
          "heatmapgl": [
           {
            "colorbar": {
             "outlinewidth": 0,
             "ticks": ""
            },
            "colorscale": [
             [
              0,
              "#0d0887"
             ],
             [
              0.1111111111111111,
              "#46039f"
             ],
             [
              0.2222222222222222,
              "#7201a8"
             ],
             [
              0.3333333333333333,
              "#9c179e"
             ],
             [
              0.4444444444444444,
              "#bd3786"
             ],
             [
              0.5555555555555556,
              "#d8576b"
             ],
             [
              0.6666666666666666,
              "#ed7953"
             ],
             [
              0.7777777777777778,
              "#fb9f3a"
             ],
             [
              0.8888888888888888,
              "#fdca26"
             ],
             [
              1,
              "#f0f921"
             ]
            ],
            "type": "heatmapgl"
           }
          ],
          "histogram": [
           {
            "marker": {
             "pattern": {
              "fillmode": "overlay",
              "size": 10,
              "solidity": 0.2
             }
            },
            "type": "histogram"
           }
          ],
          "histogram2d": [
           {
            "colorbar": {
             "outlinewidth": 0,
             "ticks": ""
            },
            "colorscale": [
             [
              0,
              "#0d0887"
             ],
             [
              0.1111111111111111,
              "#46039f"
             ],
             [
              0.2222222222222222,
              "#7201a8"
             ],
             [
              0.3333333333333333,
              "#9c179e"
             ],
             [
              0.4444444444444444,
              "#bd3786"
             ],
             [
              0.5555555555555556,
              "#d8576b"
             ],
             [
              0.6666666666666666,
              "#ed7953"
             ],
             [
              0.7777777777777778,
              "#fb9f3a"
             ],
             [
              0.8888888888888888,
              "#fdca26"
             ],
             [
              1,
              "#f0f921"
             ]
            ],
            "type": "histogram2d"
           }
          ],
          "histogram2dcontour": [
           {
            "colorbar": {
             "outlinewidth": 0,
             "ticks": ""
            },
            "colorscale": [
             [
              0,
              "#0d0887"
             ],
             [
              0.1111111111111111,
              "#46039f"
             ],
             [
              0.2222222222222222,
              "#7201a8"
             ],
             [
              0.3333333333333333,
              "#9c179e"
             ],
             [
              0.4444444444444444,
              "#bd3786"
             ],
             [
              0.5555555555555556,
              "#d8576b"
             ],
             [
              0.6666666666666666,
              "#ed7953"
             ],
             [
              0.7777777777777778,
              "#fb9f3a"
             ],
             [
              0.8888888888888888,
              "#fdca26"
             ],
             [
              1,
              "#f0f921"
             ]
            ],
            "type": "histogram2dcontour"
           }
          ],
          "mesh3d": [
           {
            "colorbar": {
             "outlinewidth": 0,
             "ticks": ""
            },
            "type": "mesh3d"
           }
          ],
          "parcoords": [
           {
            "line": {
             "colorbar": {
              "outlinewidth": 0,
              "ticks": ""
             }
            },
            "type": "parcoords"
           }
          ],
          "pie": [
           {
            "automargin": true,
            "type": "pie"
           }
          ],
          "scatter": [
           {
            "fillpattern": {
             "fillmode": "overlay",
             "size": 10,
             "solidity": 0.2
            },
            "type": "scatter"
           }
          ],
          "scatter3d": [
           {
            "line": {
             "colorbar": {
              "outlinewidth": 0,
              "ticks": ""
             }
            },
            "marker": {
             "colorbar": {
              "outlinewidth": 0,
              "ticks": ""
             }
            },
            "type": "scatter3d"
           }
          ],
          "scattercarpet": [
           {
            "marker": {
             "colorbar": {
              "outlinewidth": 0,
              "ticks": ""
             }
            },
            "type": "scattercarpet"
           }
          ],
          "scattergeo": [
           {
            "marker": {
             "colorbar": {
              "outlinewidth": 0,
              "ticks": ""
             }
            },
            "type": "scattergeo"
           }
          ],
          "scattergl": [
           {
            "marker": {
             "colorbar": {
              "outlinewidth": 0,
              "ticks": ""
             }
            },
            "type": "scattergl"
           }
          ],
          "scattermapbox": [
           {
            "marker": {
             "colorbar": {
              "outlinewidth": 0,
              "ticks": ""
             }
            },
            "type": "scattermapbox"
           }
          ],
          "scatterpolar": [
           {
            "marker": {
             "colorbar": {
              "outlinewidth": 0,
              "ticks": ""
             }
            },
            "type": "scatterpolar"
           }
          ],
          "scatterpolargl": [
           {
            "marker": {
             "colorbar": {
              "outlinewidth": 0,
              "ticks": ""
             }
            },
            "type": "scatterpolargl"
           }
          ],
          "scatterternary": [
           {
            "marker": {
             "colorbar": {
              "outlinewidth": 0,
              "ticks": ""
             }
            },
            "type": "scatterternary"
           }
          ],
          "surface": [
           {
            "colorbar": {
             "outlinewidth": 0,
             "ticks": ""
            },
            "colorscale": [
             [
              0,
              "#0d0887"
             ],
             [
              0.1111111111111111,
              "#46039f"
             ],
             [
              0.2222222222222222,
              "#7201a8"
             ],
             [
              0.3333333333333333,
              "#9c179e"
             ],
             [
              0.4444444444444444,
              "#bd3786"
             ],
             [
              0.5555555555555556,
              "#d8576b"
             ],
             [
              0.6666666666666666,
              "#ed7953"
             ],
             [
              0.7777777777777778,
              "#fb9f3a"
             ],
             [
              0.8888888888888888,
              "#fdca26"
             ],
             [
              1,
              "#f0f921"
             ]
            ],
            "type": "surface"
           }
          ],
          "table": [
           {
            "cells": {
             "fill": {
              "color": "#EBF0F8"
             },
             "line": {
              "color": "white"
             }
            },
            "header": {
             "fill": {
              "color": "#C8D4E3"
             },
             "line": {
              "color": "white"
             }
            },
            "type": "table"
           }
          ]
         },
         "layout": {
          "annotationdefaults": {
           "arrowcolor": "#2a3f5f",
           "arrowhead": 0,
           "arrowwidth": 1
          },
          "autotypenumbers": "strict",
          "coloraxis": {
           "colorbar": {
            "outlinewidth": 0,
            "ticks": ""
           }
          },
          "colorscale": {
           "diverging": [
            [
             0,
             "#8e0152"
            ],
            [
             0.1,
             "#c51b7d"
            ],
            [
             0.2,
             "#de77ae"
            ],
            [
             0.3,
             "#f1b6da"
            ],
            [
             0.4,
             "#fde0ef"
            ],
            [
             0.5,
             "#f7f7f7"
            ],
            [
             0.6,
             "#e6f5d0"
            ],
            [
             0.7,
             "#b8e186"
            ],
            [
             0.8,
             "#7fbc41"
            ],
            [
             0.9,
             "#4d9221"
            ],
            [
             1,
             "#276419"
            ]
           ],
           "sequential": [
            [
             0,
             "#0d0887"
            ],
            [
             0.1111111111111111,
             "#46039f"
            ],
            [
             0.2222222222222222,
             "#7201a8"
            ],
            [
             0.3333333333333333,
             "#9c179e"
            ],
            [
             0.4444444444444444,
             "#bd3786"
            ],
            [
             0.5555555555555556,
             "#d8576b"
            ],
            [
             0.6666666666666666,
             "#ed7953"
            ],
            [
             0.7777777777777778,
             "#fb9f3a"
            ],
            [
             0.8888888888888888,
             "#fdca26"
            ],
            [
             1,
             "#f0f921"
            ]
           ],
           "sequentialminus": [
            [
             0,
             "#0d0887"
            ],
            [
             0.1111111111111111,
             "#46039f"
            ],
            [
             0.2222222222222222,
             "#7201a8"
            ],
            [
             0.3333333333333333,
             "#9c179e"
            ],
            [
             0.4444444444444444,
             "#bd3786"
            ],
            [
             0.5555555555555556,
             "#d8576b"
            ],
            [
             0.6666666666666666,
             "#ed7953"
            ],
            [
             0.7777777777777778,
             "#fb9f3a"
            ],
            [
             0.8888888888888888,
             "#fdca26"
            ],
            [
             1,
             "#f0f921"
            ]
           ]
          },
          "colorway": [
           "#636efa",
           "#EF553B",
           "#00cc96",
           "#ab63fa",
           "#FFA15A",
           "#19d3f3",
           "#FF6692",
           "#B6E880",
           "#FF97FF",
           "#FECB52"
          ],
          "font": {
           "color": "#2a3f5f"
          },
          "geo": {
           "bgcolor": "white",
           "lakecolor": "white",
           "landcolor": "#E5ECF6",
           "showlakes": true,
           "showland": true,
           "subunitcolor": "white"
          },
          "hoverlabel": {
           "align": "left"
          },
          "hovermode": "closest",
          "mapbox": {
           "style": "light"
          },
          "paper_bgcolor": "white",
          "plot_bgcolor": "#E5ECF6",
          "polar": {
           "angularaxis": {
            "gridcolor": "white",
            "linecolor": "white",
            "ticks": ""
           },
           "bgcolor": "#E5ECF6",
           "radialaxis": {
            "gridcolor": "white",
            "linecolor": "white",
            "ticks": ""
           }
          },
          "scene": {
           "xaxis": {
            "backgroundcolor": "#E5ECF6",
            "gridcolor": "white",
            "gridwidth": 2,
            "linecolor": "white",
            "showbackground": true,
            "ticks": "",
            "zerolinecolor": "white"
           },
           "yaxis": {
            "backgroundcolor": "#E5ECF6",
            "gridcolor": "white",
            "gridwidth": 2,
            "linecolor": "white",
            "showbackground": true,
            "ticks": "",
            "zerolinecolor": "white"
           },
           "zaxis": {
            "backgroundcolor": "#E5ECF6",
            "gridcolor": "white",
            "gridwidth": 2,
            "linecolor": "white",
            "showbackground": true,
            "ticks": "",
            "zerolinecolor": "white"
           }
          },
          "shapedefaults": {
           "line": {
            "color": "#2a3f5f"
           }
          },
          "ternary": {
           "aaxis": {
            "gridcolor": "white",
            "linecolor": "white",
            "ticks": ""
           },
           "baxis": {
            "gridcolor": "white",
            "linecolor": "white",
            "ticks": ""
           },
           "bgcolor": "#E5ECF6",
           "caxis": {
            "gridcolor": "white",
            "linecolor": "white",
            "ticks": ""
           }
          },
          "title": {
           "x": 0.05
          },
          "xaxis": {
           "automargin": true,
           "gridcolor": "white",
           "linecolor": "white",
           "ticks": "",
           "title": {
            "standoff": 15
           },
           "zerolinecolor": "white",
           "zerolinewidth": 2
          },
          "yaxis": {
           "automargin": true,
           "gridcolor": "white",
           "linecolor": "white",
           "ticks": "",
           "title": {
            "standoff": 15
           },
           "zerolinecolor": "white",
           "zerolinewidth": 2
          }
         }
        },
        "title": {
         "text": "Slice Plot"
        },
        "xaxis": {
         "title": {
          "text": "alpha"
         },
         "type": "log"
        },
        "yaxis": {
         "title": {
          "text": "Objective Value"
         }
        }
       }
      }
     },
     "metadata": {},
     "output_type": "display_data"
    }
   ],
   "source": [
    "plot_slice(study)"
   ]
  },
  {
   "cell_type": "markdown",
   "metadata": {},
   "source": [
    "![](SP.png)"
   ]
  },
  {
   "cell_type": "code",
   "execution_count": 14,
   "metadata": {},
   "outputs": [
    {
     "data": {
      "application/vnd.plotly.v1+json": {
       "config": {
        "plotlyServerURL": "https://plot.ly"
       },
       "data": [
        {
         "cliponaxis": false,
         "hovertemplate": [
          "alpha (LogUniformDistribution): 1.0<extra></extra>"
         ],
         "marker": {
          "color": "rgb(66,146,198)"
         },
         "orientation": "h",
         "text": [
          "1.0"
         ],
         "textposition": "outside",
         "texttemplate": "%{text:.2f}",
         "type": "bar",
         "x": [
          1
         ],
         "y": [
          "alpha"
         ]
        }
       ],
       "layout": {
        "showlegend": false,
        "template": {
         "data": {
          "bar": [
           {
            "error_x": {
             "color": "#2a3f5f"
            },
            "error_y": {
             "color": "#2a3f5f"
            },
            "marker": {
             "line": {
              "color": "#E5ECF6",
              "width": 0.5
             },
             "pattern": {
              "fillmode": "overlay",
              "size": 10,
              "solidity": 0.2
             }
            },
            "type": "bar"
           }
          ],
          "barpolar": [
           {
            "marker": {
             "line": {
              "color": "#E5ECF6",
              "width": 0.5
             },
             "pattern": {
              "fillmode": "overlay",
              "size": 10,
              "solidity": 0.2
             }
            },
            "type": "barpolar"
           }
          ],
          "carpet": [
           {
            "aaxis": {
             "endlinecolor": "#2a3f5f",
             "gridcolor": "white",
             "linecolor": "white",
             "minorgridcolor": "white",
             "startlinecolor": "#2a3f5f"
            },
            "baxis": {
             "endlinecolor": "#2a3f5f",
             "gridcolor": "white",
             "linecolor": "white",
             "minorgridcolor": "white",
             "startlinecolor": "#2a3f5f"
            },
            "type": "carpet"
           }
          ],
          "choropleth": [
           {
            "colorbar": {
             "outlinewidth": 0,
             "ticks": ""
            },
            "type": "choropleth"
           }
          ],
          "contour": [
           {
            "colorbar": {
             "outlinewidth": 0,
             "ticks": ""
            },
            "colorscale": [
             [
              0,
              "#0d0887"
             ],
             [
              0.1111111111111111,
              "#46039f"
             ],
             [
              0.2222222222222222,
              "#7201a8"
             ],
             [
              0.3333333333333333,
              "#9c179e"
             ],
             [
              0.4444444444444444,
              "#bd3786"
             ],
             [
              0.5555555555555556,
              "#d8576b"
             ],
             [
              0.6666666666666666,
              "#ed7953"
             ],
             [
              0.7777777777777778,
              "#fb9f3a"
             ],
             [
              0.8888888888888888,
              "#fdca26"
             ],
             [
              1,
              "#f0f921"
             ]
            ],
            "type": "contour"
           }
          ],
          "contourcarpet": [
           {
            "colorbar": {
             "outlinewidth": 0,
             "ticks": ""
            },
            "type": "contourcarpet"
           }
          ],
          "heatmap": [
           {
            "colorbar": {
             "outlinewidth": 0,
             "ticks": ""
            },
            "colorscale": [
             [
              0,
              "#0d0887"
             ],
             [
              0.1111111111111111,
              "#46039f"
             ],
             [
              0.2222222222222222,
              "#7201a8"
             ],
             [
              0.3333333333333333,
              "#9c179e"
             ],
             [
              0.4444444444444444,
              "#bd3786"
             ],
             [
              0.5555555555555556,
              "#d8576b"
             ],
             [
              0.6666666666666666,
              "#ed7953"
             ],
             [
              0.7777777777777778,
              "#fb9f3a"
             ],
             [
              0.8888888888888888,
              "#fdca26"
             ],
             [
              1,
              "#f0f921"
             ]
            ],
            "type": "heatmap"
           }
          ],
          "heatmapgl": [
           {
            "colorbar": {
             "outlinewidth": 0,
             "ticks": ""
            },
            "colorscale": [
             [
              0,
              "#0d0887"
             ],
             [
              0.1111111111111111,
              "#46039f"
             ],
             [
              0.2222222222222222,
              "#7201a8"
             ],
             [
              0.3333333333333333,
              "#9c179e"
             ],
             [
              0.4444444444444444,
              "#bd3786"
             ],
             [
              0.5555555555555556,
              "#d8576b"
             ],
             [
              0.6666666666666666,
              "#ed7953"
             ],
             [
              0.7777777777777778,
              "#fb9f3a"
             ],
             [
              0.8888888888888888,
              "#fdca26"
             ],
             [
              1,
              "#f0f921"
             ]
            ],
            "type": "heatmapgl"
           }
          ],
          "histogram": [
           {
            "marker": {
             "pattern": {
              "fillmode": "overlay",
              "size": 10,
              "solidity": 0.2
             }
            },
            "type": "histogram"
           }
          ],
          "histogram2d": [
           {
            "colorbar": {
             "outlinewidth": 0,
             "ticks": ""
            },
            "colorscale": [
             [
              0,
              "#0d0887"
             ],
             [
              0.1111111111111111,
              "#46039f"
             ],
             [
              0.2222222222222222,
              "#7201a8"
             ],
             [
              0.3333333333333333,
              "#9c179e"
             ],
             [
              0.4444444444444444,
              "#bd3786"
             ],
             [
              0.5555555555555556,
              "#d8576b"
             ],
             [
              0.6666666666666666,
              "#ed7953"
             ],
             [
              0.7777777777777778,
              "#fb9f3a"
             ],
             [
              0.8888888888888888,
              "#fdca26"
             ],
             [
              1,
              "#f0f921"
             ]
            ],
            "type": "histogram2d"
           }
          ],
          "histogram2dcontour": [
           {
            "colorbar": {
             "outlinewidth": 0,
             "ticks": ""
            },
            "colorscale": [
             [
              0,
              "#0d0887"
             ],
             [
              0.1111111111111111,
              "#46039f"
             ],
             [
              0.2222222222222222,
              "#7201a8"
             ],
             [
              0.3333333333333333,
              "#9c179e"
             ],
             [
              0.4444444444444444,
              "#bd3786"
             ],
             [
              0.5555555555555556,
              "#d8576b"
             ],
             [
              0.6666666666666666,
              "#ed7953"
             ],
             [
              0.7777777777777778,
              "#fb9f3a"
             ],
             [
              0.8888888888888888,
              "#fdca26"
             ],
             [
              1,
              "#f0f921"
             ]
            ],
            "type": "histogram2dcontour"
           }
          ],
          "mesh3d": [
           {
            "colorbar": {
             "outlinewidth": 0,
             "ticks": ""
            },
            "type": "mesh3d"
           }
          ],
          "parcoords": [
           {
            "line": {
             "colorbar": {
              "outlinewidth": 0,
              "ticks": ""
             }
            },
            "type": "parcoords"
           }
          ],
          "pie": [
           {
            "automargin": true,
            "type": "pie"
           }
          ],
          "scatter": [
           {
            "fillpattern": {
             "fillmode": "overlay",
             "size": 10,
             "solidity": 0.2
            },
            "type": "scatter"
           }
          ],
          "scatter3d": [
           {
            "line": {
             "colorbar": {
              "outlinewidth": 0,
              "ticks": ""
             }
            },
            "marker": {
             "colorbar": {
              "outlinewidth": 0,
              "ticks": ""
             }
            },
            "type": "scatter3d"
           }
          ],
          "scattercarpet": [
           {
            "marker": {
             "colorbar": {
              "outlinewidth": 0,
              "ticks": ""
             }
            },
            "type": "scattercarpet"
           }
          ],
          "scattergeo": [
           {
            "marker": {
             "colorbar": {
              "outlinewidth": 0,
              "ticks": ""
             }
            },
            "type": "scattergeo"
           }
          ],
          "scattergl": [
           {
            "marker": {
             "colorbar": {
              "outlinewidth": 0,
              "ticks": ""
             }
            },
            "type": "scattergl"
           }
          ],
          "scattermapbox": [
           {
            "marker": {
             "colorbar": {
              "outlinewidth": 0,
              "ticks": ""
             }
            },
            "type": "scattermapbox"
           }
          ],
          "scatterpolar": [
           {
            "marker": {
             "colorbar": {
              "outlinewidth": 0,
              "ticks": ""
             }
            },
            "type": "scatterpolar"
           }
          ],
          "scatterpolargl": [
           {
            "marker": {
             "colorbar": {
              "outlinewidth": 0,
              "ticks": ""
             }
            },
            "type": "scatterpolargl"
           }
          ],
          "scatterternary": [
           {
            "marker": {
             "colorbar": {
              "outlinewidth": 0,
              "ticks": ""
             }
            },
            "type": "scatterternary"
           }
          ],
          "surface": [
           {
            "colorbar": {
             "outlinewidth": 0,
             "ticks": ""
            },
            "colorscale": [
             [
              0,
              "#0d0887"
             ],
             [
              0.1111111111111111,
              "#46039f"
             ],
             [
              0.2222222222222222,
              "#7201a8"
             ],
             [
              0.3333333333333333,
              "#9c179e"
             ],
             [
              0.4444444444444444,
              "#bd3786"
             ],
             [
              0.5555555555555556,
              "#d8576b"
             ],
             [
              0.6666666666666666,
              "#ed7953"
             ],
             [
              0.7777777777777778,
              "#fb9f3a"
             ],
             [
              0.8888888888888888,
              "#fdca26"
             ],
             [
              1,
              "#f0f921"
             ]
            ],
            "type": "surface"
           }
          ],
          "table": [
           {
            "cells": {
             "fill": {
              "color": "#EBF0F8"
             },
             "line": {
              "color": "white"
             }
            },
            "header": {
             "fill": {
              "color": "#C8D4E3"
             },
             "line": {
              "color": "white"
             }
            },
            "type": "table"
           }
          ]
         },
         "layout": {
          "annotationdefaults": {
           "arrowcolor": "#2a3f5f",
           "arrowhead": 0,
           "arrowwidth": 1
          },
          "autotypenumbers": "strict",
          "coloraxis": {
           "colorbar": {
            "outlinewidth": 0,
            "ticks": ""
           }
          },
          "colorscale": {
           "diverging": [
            [
             0,
             "#8e0152"
            ],
            [
             0.1,
             "#c51b7d"
            ],
            [
             0.2,
             "#de77ae"
            ],
            [
             0.3,
             "#f1b6da"
            ],
            [
             0.4,
             "#fde0ef"
            ],
            [
             0.5,
             "#f7f7f7"
            ],
            [
             0.6,
             "#e6f5d0"
            ],
            [
             0.7,
             "#b8e186"
            ],
            [
             0.8,
             "#7fbc41"
            ],
            [
             0.9,
             "#4d9221"
            ],
            [
             1,
             "#276419"
            ]
           ],
           "sequential": [
            [
             0,
             "#0d0887"
            ],
            [
             0.1111111111111111,
             "#46039f"
            ],
            [
             0.2222222222222222,
             "#7201a8"
            ],
            [
             0.3333333333333333,
             "#9c179e"
            ],
            [
             0.4444444444444444,
             "#bd3786"
            ],
            [
             0.5555555555555556,
             "#d8576b"
            ],
            [
             0.6666666666666666,
             "#ed7953"
            ],
            [
             0.7777777777777778,
             "#fb9f3a"
            ],
            [
             0.8888888888888888,
             "#fdca26"
            ],
            [
             1,
             "#f0f921"
            ]
           ],
           "sequentialminus": [
            [
             0,
             "#0d0887"
            ],
            [
             0.1111111111111111,
             "#46039f"
            ],
            [
             0.2222222222222222,
             "#7201a8"
            ],
            [
             0.3333333333333333,
             "#9c179e"
            ],
            [
             0.4444444444444444,
             "#bd3786"
            ],
            [
             0.5555555555555556,
             "#d8576b"
            ],
            [
             0.6666666666666666,
             "#ed7953"
            ],
            [
             0.7777777777777778,
             "#fb9f3a"
            ],
            [
             0.8888888888888888,
             "#fdca26"
            ],
            [
             1,
             "#f0f921"
            ]
           ]
          },
          "colorway": [
           "#636efa",
           "#EF553B",
           "#00cc96",
           "#ab63fa",
           "#FFA15A",
           "#19d3f3",
           "#FF6692",
           "#B6E880",
           "#FF97FF",
           "#FECB52"
          ],
          "font": {
           "color": "#2a3f5f"
          },
          "geo": {
           "bgcolor": "white",
           "lakecolor": "white",
           "landcolor": "#E5ECF6",
           "showlakes": true,
           "showland": true,
           "subunitcolor": "white"
          },
          "hoverlabel": {
           "align": "left"
          },
          "hovermode": "closest",
          "mapbox": {
           "style": "light"
          },
          "paper_bgcolor": "white",
          "plot_bgcolor": "#E5ECF6",
          "polar": {
           "angularaxis": {
            "gridcolor": "white",
            "linecolor": "white",
            "ticks": ""
           },
           "bgcolor": "#E5ECF6",
           "radialaxis": {
            "gridcolor": "white",
            "linecolor": "white",
            "ticks": ""
           }
          },
          "scene": {
           "xaxis": {
            "backgroundcolor": "#E5ECF6",
            "gridcolor": "white",
            "gridwidth": 2,
            "linecolor": "white",
            "showbackground": true,
            "ticks": "",
            "zerolinecolor": "white"
           },
           "yaxis": {
            "backgroundcolor": "#E5ECF6",
            "gridcolor": "white",
            "gridwidth": 2,
            "linecolor": "white",
            "showbackground": true,
            "ticks": "",
            "zerolinecolor": "white"
           },
           "zaxis": {
            "backgroundcolor": "#E5ECF6",
            "gridcolor": "white",
            "gridwidth": 2,
            "linecolor": "white",
            "showbackground": true,
            "ticks": "",
            "zerolinecolor": "white"
           }
          },
          "shapedefaults": {
           "line": {
            "color": "#2a3f5f"
           }
          },
          "ternary": {
           "aaxis": {
            "gridcolor": "white",
            "linecolor": "white",
            "ticks": ""
           },
           "baxis": {
            "gridcolor": "white",
            "linecolor": "white",
            "ticks": ""
           },
           "bgcolor": "#E5ECF6",
           "caxis": {
            "gridcolor": "white",
            "linecolor": "white",
            "ticks": ""
           }
          },
          "title": {
           "x": 0.05
          },
          "xaxis": {
           "automargin": true,
           "gridcolor": "white",
           "linecolor": "white",
           "ticks": "",
           "title": {
            "standoff": 15
           },
           "zerolinecolor": "white",
           "zerolinewidth": 2
          },
          "yaxis": {
           "automargin": true,
           "gridcolor": "white",
           "linecolor": "white",
           "ticks": "",
           "title": {
            "standoff": 15
           },
           "zerolinecolor": "white",
           "zerolinewidth": 2
          }
         }
        },
        "title": {
         "text": "Hyperparameter Importances"
        },
        "xaxis": {
         "title": {
          "text": "Importance for Objective Value"
         }
        },
        "yaxis": {
         "title": {
          "text": "Hyperparameter"
         }
        }
       }
      }
     },
     "metadata": {},
     "output_type": "display_data"
    }
   ],
   "source": [
    "plot_param_importances(study)"
   ]
  },
  {
   "cell_type": "markdown",
   "metadata": {},
   "source": [
    "![](HI.png)"
   ]
  },
  {
   "cell_type": "code",
   "execution_count": 15,
   "metadata": {},
   "outputs": [
    {
     "data": {
      "application/vnd.plotly.v1+json": {
       "config": {
        "plotlyServerURL": "https://plot.ly"
       },
       "data": [
        {
         "mode": "lines",
         "name": "no-name-f58918a8-e57b-4ea5-815f-3a43f188bd3c",
         "type": "scatter",
         "x": [
          0.02631578947368418,
          0.028442317916002095,
          0.030568846358320013,
          0.03269537480063793,
          0.034821903242955844,
          0.03694843168527376,
          0.03907496012759168,
          0.04120148856990959,
          0.04332801701222751,
          0.04545454545454542,
          0.047581073896863335,
          0.049707602339181256,
          0.05183413078149917,
          0.053960659223817084,
          0.056087187666135005,
          0.05821371610845292,
          0.06034024455077083,
          0.06246677299308875,
          0.06459330143540666,
          0.06671982987772458,
          0.06884635832004249,
          0.07097288676236041,
          0.07309941520467833,
          0.07522594364699625,
          0.07735247208931416,
          0.07947900053163207,
          0.08160552897394999,
          0.08373205741626791,
          0.08585858585858583,
          0.08798511430090374,
          0.09011164274322166,
          0.09223817118553956,
          0.09436469962785748,
          0.0964912280701754,
          0.09861775651249331,
          0.10074428495481123,
          0.10287081339712914,
          0.10499734183944706,
          0.10712387028176498,
          0.10925039872408289,
          0.11137692716640081,
          0.11350345560871873,
          0.11562998405103664,
          0.11775651249335456,
          0.11988304093567248,
          0.12200956937799039,
          0.12413609782030831,
          0.12626262626262622,
          0.12838915470494414,
          0.13051568314726206,
          0.13264221158957995,
          0.13476874003189787,
          0.1368952684742158,
          0.1390217969165337,
          0.14114832535885163,
          0.14327485380116955,
          0.14540138224348748,
          0.1475279106858054,
          0.1496544391281233,
          0.1517809675704412,
          0.15390749601275913,
          0.15603402445507705,
          0.15816055289739495,
          0.16028708133971287,
          0.1624136097820308,
          0.1645401382243487,
          0.16666666666666663,
          0.16879319510898452,
          0.17091972355130244,
          0.17304625199362036,
          0.17517278043593829,
          0.1772993088782562,
          0.1794258373205741,
          0.18155236576289202,
          0.18367889420520994,
          0.18580542264752786,
          0.18793195108984578,
          0.1900584795321637,
          0.1921850079744816,
          0.19431153641679952,
          0.19643806485911744,
          0.19856459330143536,
          0.20069112174375328,
          0.20281765018607117,
          0.2049441786283891,
          0.20707070707070702,
          0.20919723551302494,
          0.21132376395534286,
          0.21345029239766078,
          0.21557682083997867,
          0.2177033492822966,
          0.21982987772461451,
          0.22195640616693244,
          0.22408293460925036,
          0.22620946305156825,
          0.22833599149388617,
          0.2304625199362041,
          0.232589048378522,
          0.23471557682083993,
          0.23684210526315785
         ],
         "y": [
          0.16666666666666666,
          0.16666666666666666,
          0.16666666666666666,
          0.16666666666666666,
          0.16666666666666666,
          0.16666666666666666,
          0.16666666666666666,
          0.16666666666666666,
          0.16666666666666666,
          0.16666666666666666,
          0.16666666666666666,
          0.16666666666666666,
          0.16666666666666666,
          0.16666666666666666,
          0.16666666666666666,
          0.16666666666666666,
          0.16666666666666666,
          0.16666666666666666,
          0.16666666666666666,
          0.16666666666666666,
          0.16666666666666666,
          0.16666666666666666,
          0.16666666666666666,
          0.16666666666666666,
          0.16666666666666666,
          0.3333333333333333,
          0.3333333333333333,
          0.3333333333333333,
          0.3333333333333333,
          0.3333333333333333,
          0.3333333333333333,
          0.3333333333333333,
          0.3333333333333333,
          0.3333333333333333,
          0.3333333333333333,
          0.3333333333333333,
          0.3333333333333333,
          0.3333333333333333,
          0.3333333333333333,
          0.3333333333333333,
          0.3333333333333333,
          0.3333333333333333,
          0.3333333333333333,
          0.3333333333333333,
          0.3333333333333333,
          0.3333333333333333,
          0.3333333333333333,
          0.3333333333333333,
          0.3333333333333333,
          0.3333333333333333,
          0.5,
          0.5,
          0.5,
          0.5,
          0.5,
          0.5,
          0.5,
          0.5,
          0.5,
          0.5,
          0.5,
          0.5,
          0.6666666666666666,
          0.6666666666666666,
          0.6666666666666666,
          0.6666666666666666,
          0.6666666666666666,
          0.6666666666666666,
          0.6666666666666666,
          0.6666666666666666,
          0.6666666666666666,
          0.6666666666666666,
          0.6666666666666666,
          0.6666666666666666,
          0.6666666666666666,
          0.6666666666666666,
          0.6666666666666666,
          0.6666666666666666,
          0.6666666666666666,
          0.6666666666666666,
          0.6666666666666666,
          0.6666666666666666,
          0.6666666666666666,
          0.6666666666666666,
          0.6666666666666666,
          0.6666666666666666,
          0.6666666666666666,
          0.8333333333333334,
          0.8333333333333334,
          0.8333333333333334,
          0.8333333333333334,
          0.8333333333333334,
          0.8333333333333334,
          0.8333333333333334,
          0.8333333333333334,
          0.8333333333333334,
          0.8333333333333334,
          0.8333333333333334,
          0.8333333333333334,
          1
         ]
        }
       ],
       "layout": {
        "template": {
         "data": {
          "bar": [
           {
            "error_x": {
             "color": "#2a3f5f"
            },
            "error_y": {
             "color": "#2a3f5f"
            },
            "marker": {
             "line": {
              "color": "#E5ECF6",
              "width": 0.5
             },
             "pattern": {
              "fillmode": "overlay",
              "size": 10,
              "solidity": 0.2
             }
            },
            "type": "bar"
           }
          ],
          "barpolar": [
           {
            "marker": {
             "line": {
              "color": "#E5ECF6",
              "width": 0.5
             },
             "pattern": {
              "fillmode": "overlay",
              "size": 10,
              "solidity": 0.2
             }
            },
            "type": "barpolar"
           }
          ],
          "carpet": [
           {
            "aaxis": {
             "endlinecolor": "#2a3f5f",
             "gridcolor": "white",
             "linecolor": "white",
             "minorgridcolor": "white",
             "startlinecolor": "#2a3f5f"
            },
            "baxis": {
             "endlinecolor": "#2a3f5f",
             "gridcolor": "white",
             "linecolor": "white",
             "minorgridcolor": "white",
             "startlinecolor": "#2a3f5f"
            },
            "type": "carpet"
           }
          ],
          "choropleth": [
           {
            "colorbar": {
             "outlinewidth": 0,
             "ticks": ""
            },
            "type": "choropleth"
           }
          ],
          "contour": [
           {
            "colorbar": {
             "outlinewidth": 0,
             "ticks": ""
            },
            "colorscale": [
             [
              0,
              "#0d0887"
             ],
             [
              0.1111111111111111,
              "#46039f"
             ],
             [
              0.2222222222222222,
              "#7201a8"
             ],
             [
              0.3333333333333333,
              "#9c179e"
             ],
             [
              0.4444444444444444,
              "#bd3786"
             ],
             [
              0.5555555555555556,
              "#d8576b"
             ],
             [
              0.6666666666666666,
              "#ed7953"
             ],
             [
              0.7777777777777778,
              "#fb9f3a"
             ],
             [
              0.8888888888888888,
              "#fdca26"
             ],
             [
              1,
              "#f0f921"
             ]
            ],
            "type": "contour"
           }
          ],
          "contourcarpet": [
           {
            "colorbar": {
             "outlinewidth": 0,
             "ticks": ""
            },
            "type": "contourcarpet"
           }
          ],
          "heatmap": [
           {
            "colorbar": {
             "outlinewidth": 0,
             "ticks": ""
            },
            "colorscale": [
             [
              0,
              "#0d0887"
             ],
             [
              0.1111111111111111,
              "#46039f"
             ],
             [
              0.2222222222222222,
              "#7201a8"
             ],
             [
              0.3333333333333333,
              "#9c179e"
             ],
             [
              0.4444444444444444,
              "#bd3786"
             ],
             [
              0.5555555555555556,
              "#d8576b"
             ],
             [
              0.6666666666666666,
              "#ed7953"
             ],
             [
              0.7777777777777778,
              "#fb9f3a"
             ],
             [
              0.8888888888888888,
              "#fdca26"
             ],
             [
              1,
              "#f0f921"
             ]
            ],
            "type": "heatmap"
           }
          ],
          "heatmapgl": [
           {
            "colorbar": {
             "outlinewidth": 0,
             "ticks": ""
            },
            "colorscale": [
             [
              0,
              "#0d0887"
             ],
             [
              0.1111111111111111,
              "#46039f"
             ],
             [
              0.2222222222222222,
              "#7201a8"
             ],
             [
              0.3333333333333333,
              "#9c179e"
             ],
             [
              0.4444444444444444,
              "#bd3786"
             ],
             [
              0.5555555555555556,
              "#d8576b"
             ],
             [
              0.6666666666666666,
              "#ed7953"
             ],
             [
              0.7777777777777778,
              "#fb9f3a"
             ],
             [
              0.8888888888888888,
              "#fdca26"
             ],
             [
              1,
              "#f0f921"
             ]
            ],
            "type": "heatmapgl"
           }
          ],
          "histogram": [
           {
            "marker": {
             "pattern": {
              "fillmode": "overlay",
              "size": 10,
              "solidity": 0.2
             }
            },
            "type": "histogram"
           }
          ],
          "histogram2d": [
           {
            "colorbar": {
             "outlinewidth": 0,
             "ticks": ""
            },
            "colorscale": [
             [
              0,
              "#0d0887"
             ],
             [
              0.1111111111111111,
              "#46039f"
             ],
             [
              0.2222222222222222,
              "#7201a8"
             ],
             [
              0.3333333333333333,
              "#9c179e"
             ],
             [
              0.4444444444444444,
              "#bd3786"
             ],
             [
              0.5555555555555556,
              "#d8576b"
             ],
             [
              0.6666666666666666,
              "#ed7953"
             ],
             [
              0.7777777777777778,
              "#fb9f3a"
             ],
             [
              0.8888888888888888,
              "#fdca26"
             ],
             [
              1,
              "#f0f921"
             ]
            ],
            "type": "histogram2d"
           }
          ],
          "histogram2dcontour": [
           {
            "colorbar": {
             "outlinewidth": 0,
             "ticks": ""
            },
            "colorscale": [
             [
              0,
              "#0d0887"
             ],
             [
              0.1111111111111111,
              "#46039f"
             ],
             [
              0.2222222222222222,
              "#7201a8"
             ],
             [
              0.3333333333333333,
              "#9c179e"
             ],
             [
              0.4444444444444444,
              "#bd3786"
             ],
             [
              0.5555555555555556,
              "#d8576b"
             ],
             [
              0.6666666666666666,
              "#ed7953"
             ],
             [
              0.7777777777777778,
              "#fb9f3a"
             ],
             [
              0.8888888888888888,
              "#fdca26"
             ],
             [
              1,
              "#f0f921"
             ]
            ],
            "type": "histogram2dcontour"
           }
          ],
          "mesh3d": [
           {
            "colorbar": {
             "outlinewidth": 0,
             "ticks": ""
            },
            "type": "mesh3d"
           }
          ],
          "parcoords": [
           {
            "line": {
             "colorbar": {
              "outlinewidth": 0,
              "ticks": ""
             }
            },
            "type": "parcoords"
           }
          ],
          "pie": [
           {
            "automargin": true,
            "type": "pie"
           }
          ],
          "scatter": [
           {
            "fillpattern": {
             "fillmode": "overlay",
             "size": 10,
             "solidity": 0.2
            },
            "type": "scatter"
           }
          ],
          "scatter3d": [
           {
            "line": {
             "colorbar": {
              "outlinewidth": 0,
              "ticks": ""
             }
            },
            "marker": {
             "colorbar": {
              "outlinewidth": 0,
              "ticks": ""
             }
            },
            "type": "scatter3d"
           }
          ],
          "scattercarpet": [
           {
            "marker": {
             "colorbar": {
              "outlinewidth": 0,
              "ticks": ""
             }
            },
            "type": "scattercarpet"
           }
          ],
          "scattergeo": [
           {
            "marker": {
             "colorbar": {
              "outlinewidth": 0,
              "ticks": ""
             }
            },
            "type": "scattergeo"
           }
          ],
          "scattergl": [
           {
            "marker": {
             "colorbar": {
              "outlinewidth": 0,
              "ticks": ""
             }
            },
            "type": "scattergl"
           }
          ],
          "scattermapbox": [
           {
            "marker": {
             "colorbar": {
              "outlinewidth": 0,
              "ticks": ""
             }
            },
            "type": "scattermapbox"
           }
          ],
          "scatterpolar": [
           {
            "marker": {
             "colorbar": {
              "outlinewidth": 0,
              "ticks": ""
             }
            },
            "type": "scatterpolar"
           }
          ],
          "scatterpolargl": [
           {
            "marker": {
             "colorbar": {
              "outlinewidth": 0,
              "ticks": ""
             }
            },
            "type": "scatterpolargl"
           }
          ],
          "scatterternary": [
           {
            "marker": {
             "colorbar": {
              "outlinewidth": 0,
              "ticks": ""
             }
            },
            "type": "scatterternary"
           }
          ],
          "surface": [
           {
            "colorbar": {
             "outlinewidth": 0,
             "ticks": ""
            },
            "colorscale": [
             [
              0,
              "#0d0887"
             ],
             [
              0.1111111111111111,
              "#46039f"
             ],
             [
              0.2222222222222222,
              "#7201a8"
             ],
             [
              0.3333333333333333,
              "#9c179e"
             ],
             [
              0.4444444444444444,
              "#bd3786"
             ],
             [
              0.5555555555555556,
              "#d8576b"
             ],
             [
              0.6666666666666666,
              "#ed7953"
             ],
             [
              0.7777777777777778,
              "#fb9f3a"
             ],
             [
              0.8888888888888888,
              "#fdca26"
             ],
             [
              1,
              "#f0f921"
             ]
            ],
            "type": "surface"
           }
          ],
          "table": [
           {
            "cells": {
             "fill": {
              "color": "#EBF0F8"
             },
             "line": {
              "color": "white"
             }
            },
            "header": {
             "fill": {
              "color": "#C8D4E3"
             },
             "line": {
              "color": "white"
             }
            },
            "type": "table"
           }
          ]
         },
         "layout": {
          "annotationdefaults": {
           "arrowcolor": "#2a3f5f",
           "arrowhead": 0,
           "arrowwidth": 1
          },
          "autotypenumbers": "strict",
          "coloraxis": {
           "colorbar": {
            "outlinewidth": 0,
            "ticks": ""
           }
          },
          "colorscale": {
           "diverging": [
            [
             0,
             "#8e0152"
            ],
            [
             0.1,
             "#c51b7d"
            ],
            [
             0.2,
             "#de77ae"
            ],
            [
             0.3,
             "#f1b6da"
            ],
            [
             0.4,
             "#fde0ef"
            ],
            [
             0.5,
             "#f7f7f7"
            ],
            [
             0.6,
             "#e6f5d0"
            ],
            [
             0.7,
             "#b8e186"
            ],
            [
             0.8,
             "#7fbc41"
            ],
            [
             0.9,
             "#4d9221"
            ],
            [
             1,
             "#276419"
            ]
           ],
           "sequential": [
            [
             0,
             "#0d0887"
            ],
            [
             0.1111111111111111,
             "#46039f"
            ],
            [
             0.2222222222222222,
             "#7201a8"
            ],
            [
             0.3333333333333333,
             "#9c179e"
            ],
            [
             0.4444444444444444,
             "#bd3786"
            ],
            [
             0.5555555555555556,
             "#d8576b"
            ],
            [
             0.6666666666666666,
             "#ed7953"
            ],
            [
             0.7777777777777778,
             "#fb9f3a"
            ],
            [
             0.8888888888888888,
             "#fdca26"
            ],
            [
             1,
             "#f0f921"
            ]
           ],
           "sequentialminus": [
            [
             0,
             "#0d0887"
            ],
            [
             0.1111111111111111,
             "#46039f"
            ],
            [
             0.2222222222222222,
             "#7201a8"
            ],
            [
             0.3333333333333333,
             "#9c179e"
            ],
            [
             0.4444444444444444,
             "#bd3786"
            ],
            [
             0.5555555555555556,
             "#d8576b"
            ],
            [
             0.6666666666666666,
             "#ed7953"
            ],
            [
             0.7777777777777778,
             "#fb9f3a"
            ],
            [
             0.8888888888888888,
             "#fdca26"
            ],
            [
             1,
             "#f0f921"
            ]
           ]
          },
          "colorway": [
           "#636efa",
           "#EF553B",
           "#00cc96",
           "#ab63fa",
           "#FFA15A",
           "#19d3f3",
           "#FF6692",
           "#B6E880",
           "#FF97FF",
           "#FECB52"
          ],
          "font": {
           "color": "#2a3f5f"
          },
          "geo": {
           "bgcolor": "white",
           "lakecolor": "white",
           "landcolor": "#E5ECF6",
           "showlakes": true,
           "showland": true,
           "subunitcolor": "white"
          },
          "hoverlabel": {
           "align": "left"
          },
          "hovermode": "closest",
          "mapbox": {
           "style": "light"
          },
          "paper_bgcolor": "white",
          "plot_bgcolor": "#E5ECF6",
          "polar": {
           "angularaxis": {
            "gridcolor": "white",
            "linecolor": "white",
            "ticks": ""
           },
           "bgcolor": "#E5ECF6",
           "radialaxis": {
            "gridcolor": "white",
            "linecolor": "white",
            "ticks": ""
           }
          },
          "scene": {
           "xaxis": {
            "backgroundcolor": "#E5ECF6",
            "gridcolor": "white",
            "gridwidth": 2,
            "linecolor": "white",
            "showbackground": true,
            "ticks": "",
            "zerolinecolor": "white"
           },
           "yaxis": {
            "backgroundcolor": "#E5ECF6",
            "gridcolor": "white",
            "gridwidth": 2,
            "linecolor": "white",
            "showbackground": true,
            "ticks": "",
            "zerolinecolor": "white"
           },
           "zaxis": {
            "backgroundcolor": "#E5ECF6",
            "gridcolor": "white",
            "gridwidth": 2,
            "linecolor": "white",
            "showbackground": true,
            "ticks": "",
            "zerolinecolor": "white"
           }
          },
          "shapedefaults": {
           "line": {
            "color": "#2a3f5f"
           }
          },
          "ternary": {
           "aaxis": {
            "gridcolor": "white",
            "linecolor": "white",
            "ticks": ""
           },
           "baxis": {
            "gridcolor": "white",
            "linecolor": "white",
            "ticks": ""
           },
           "bgcolor": "#E5ECF6",
           "caxis": {
            "gridcolor": "white",
            "linecolor": "white",
            "ticks": ""
           }
          },
          "title": {
           "x": 0.05
          },
          "xaxis": {
           "automargin": true,
           "gridcolor": "white",
           "linecolor": "white",
           "ticks": "",
           "title": {
            "standoff": 15
           },
           "zerolinecolor": "white",
           "zerolinewidth": 2
          },
          "yaxis": {
           "automargin": true,
           "gridcolor": "white",
           "linecolor": "white",
           "ticks": "",
           "title": {
            "standoff": 15
           },
           "zerolinecolor": "white",
           "zerolinewidth": 2
          }
         }
        },
        "title": {
         "text": "Empirical Distribution Function Plot"
        },
        "xaxis": {
         "title": {
          "text": "Objective Value"
         }
        },
        "yaxis": {
         "range": [
          0,
          1
         ],
         "title": {
          "text": "Cumulative Probability"
         }
        }
       }
      }
     },
     "metadata": {},
     "output_type": "display_data"
    }
   ],
   "source": [
    "plot_edf(study)"
   ]
  },
  {
   "cell_type": "markdown",
   "metadata": {},
   "source": [
    "![](EDFP.png)"
   ]
  }
 ],
 "metadata": {
  "kernelspec": {
   "display_name": "Python 3.9.13 ('base')",
   "language": "python",
   "name": "python3"
  },
  "language_info": {
   "codemirror_mode": {
    "name": "ipython",
    "version": 3
   },
   "file_extension": ".py",
   "mimetype": "text/x-python",
   "name": "python",
   "nbconvert_exporter": "python",
   "pygments_lexer": "ipython3",
   "version": "3.9.13"
  },
  "orig_nbformat": 4,
  "vscode": {
   "interpreter": {
    "hash": "ad2bdc8ecc057115af97d19610ffacc2b4e99fae6737bb82f5d7fb13d2f2c186"
   }
  }
 },
 "nbformat": 4,
 "nbformat_minor": 2
}
